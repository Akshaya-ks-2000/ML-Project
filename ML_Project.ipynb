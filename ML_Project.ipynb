{
  "nbformat": 4,
  "nbformat_minor": 0,
  "metadata": {
    "colab": {
      "provenance": [],
      "mount_file_id": "1H9IUhgC-omG5QwaDp7S5TyrouFsVza3d",
      "authorship_tag": "ABX9TyPdx9SMYTkIXq0/rIHLwg4s",
      "include_colab_link": true
    },
    "kernelspec": {
      "name": "python3",
      "display_name": "Python 3"
    },
    "language_info": {
      "name": "python"
    }
  },
  "cells": [
    {
      "cell_type": "markdown",
      "metadata": {
        "id": "view-in-github",
        "colab_type": "text"
      },
      "source": [
        "<a href=\"https://colab.research.google.com/github/Akshaya-ks-2000/ML-Project/blob/main/ML_Project.ipynb\" target=\"_parent\"><img src=\"https://colab.research.google.com/assets/colab-badge.svg\" alt=\"Open In Colab\"/></a>"
      ]
    },
    {
      "cell_type": "markdown",
      "source": [
        "#    **LIFESTYLE,HEALTH AND SLEEP DISORDER**\n",
        "\n",
        "\n",
        "**AIM**\n",
        "\n",
        "Prediction of Sleep disorder based on  various lifestyle and health factors using different classification algorithms.\n",
        "\n",
        "**ABOUT THE DATASET**\n",
        "\n",
        "Dataset from **KAGGLE**\n",
        "\n",
        "This dataset includes various attributes which affects the sleep of a person.\n",
        "\n",
        "1) **Person ID**: An identifier for each individual.\n",
        "\n",
        "2)**Gender**: The gender of the person (Male/Female).\n",
        "\n",
        "3) **Age**: The age of the person in years.\n",
        "\n",
        "4) **Occupation**: The occupation or profession of the person.\n",
        "\n",
        "5) **Sleep Duration (hours)**: The number of hours the person sleeps per day.\n",
        "\n",
        "6) **Quality of Sleep (scale: 1-10)**: A subjective rating of the quality of sleep, ranging from 1 to 10.\n",
        "\n",
        "7) **Physical Activity Level (minutes/day)**: The number of minutes the person engages in physical activity daily.\n",
        "\n",
        "8) S**tress Level (scale: 1-10)**: A subjective rating of the stress level experienced by the person, ranging from 1 to 10.\n",
        "\n",
        "9) **BMI Category**: The BMI category of the person (e.g., Underweight, Normal, Overweight).\n",
        "\n",
        "10) **Blood Pressure (systolic/diastolic)**: The blood pressure measurement of the person, indicated as systolic pressure over diastolic pressure.\n",
        "\n",
        "\n",
        "11) **Heart Rate (bpm)**: The resting heart rate of the person in beats per minute.\n",
        "\n",
        "12) **Daily Steps**: The number of steps the person takes per day.\n",
        "\n",
        "13) **Sleep Disorder**: The presence or absence of a sleep disorder in the person (None, Insomnia, Sleep Apnea).\n",
        "\n",
        "***About Sleep Disorder Column:***\n",
        "\n",
        "1) **None**: The individual does not exhibit any specific sleep disorder.\n",
        "\n",
        "2) **Insomnia**: The individual experiences difficulty falling asleep or staying asleep, leading to inadequate or poor-quality sleep.\n",
        "\n",
        "3) **Sleep Apnea**: The individual suffers from pauses in breathing during sleep, resulting in disrupted sleep patterns and potential health risks."
      ],
      "metadata": {
        "id": "Q47rdP67zg9u"
      }
    },
    {
      "cell_type": "markdown",
      "source": [
        "## Loading Data"
      ],
      "metadata": {
        "id": "_ggmXDuGdoe6"
      }
    },
    {
      "cell_type": "code",
      "execution_count": null,
      "metadata": {
        "colab": {
          "base_uri": "https://localhost:8080/",
          "height": 641
        },
        "id": "nHKbnQsndU8L",
        "outputId": "60c47da4-d679-4448-e9a8-4b924fddd12b"
      },
      "outputs": [
        {
          "output_type": "execute_result",
          "data": {
            "text/plain": [
              "     Person ID  Gender  Age            Occupation  Sleep Duration  \\\n",
              "0            1    Male   27     Software Engineer             6.1   \n",
              "1            2    Male   28                Doctor             6.2   \n",
              "2            3    Male   28                Doctor             6.2   \n",
              "3            4    Male   28  Sales Representative             5.9   \n",
              "4            5    Male   28  Sales Representative             5.9   \n",
              "..         ...     ...  ...                   ...             ...   \n",
              "369        370  Female   59                 Nurse             8.1   \n",
              "370        371  Female   59                 Nurse             8.0   \n",
              "371        372  Female   59                 Nurse             8.1   \n",
              "372        373  Female   59                 Nurse             8.1   \n",
              "373        374  Female   59                 Nurse             8.1   \n",
              "\n",
              "     Quality of Sleep  Physical Activity Level  Stress Level BMI Category  \\\n",
              "0                   6                       42             6   Overweight   \n",
              "1                   6                       60             8       Normal   \n",
              "2                   6                       60             8       Normal   \n",
              "3                   4                       30             8        Obese   \n",
              "4                   4                       30             8        Obese   \n",
              "..                ...                      ...           ...          ...   \n",
              "369                 9                       75             3   Overweight   \n",
              "370                 9                       75             3   Overweight   \n",
              "371                 9                       75             3   Overweight   \n",
              "372                 9                       75             3   Overweight   \n",
              "373                 9                       75             3   Overweight   \n",
              "\n",
              "    Blood Pressure  Heart Rate  Daily Steps Sleep Disorder  \n",
              "0           126/83          77         4200           None  \n",
              "1           125/80          75        10000           None  \n",
              "2           125/80          75        10000           None  \n",
              "3           140/90          85         3000    Sleep Apnea  \n",
              "4           140/90          85         3000    Sleep Apnea  \n",
              "..             ...         ...          ...            ...  \n",
              "369         140/95          68         7000    Sleep Apnea  \n",
              "370         140/95          68         7000    Sleep Apnea  \n",
              "371         140/95          68         7000    Sleep Apnea  \n",
              "372         140/95          68         7000    Sleep Apnea  \n",
              "373         140/95          68         7000    Sleep Apnea  \n",
              "\n",
              "[374 rows x 13 columns]"
            ],
            "text/html": [
              "\n",
              "\n",
              "  <div id=\"df-9ebbf281-9d00-4fb0-bcae-e1735c8396f1\">\n",
              "    <div class=\"colab-df-container\">\n",
              "      <div>\n",
              "<style scoped>\n",
              "    .dataframe tbody tr th:only-of-type {\n",
              "        vertical-align: middle;\n",
              "    }\n",
              "\n",
              "    .dataframe tbody tr th {\n",
              "        vertical-align: top;\n",
              "    }\n",
              "\n",
              "    .dataframe thead th {\n",
              "        text-align: right;\n",
              "    }\n",
              "</style>\n",
              "<table border=\"1\" class=\"dataframe\">\n",
              "  <thead>\n",
              "    <tr style=\"text-align: right;\">\n",
              "      <th></th>\n",
              "      <th>Person ID</th>\n",
              "      <th>Gender</th>\n",
              "      <th>Age</th>\n",
              "      <th>Occupation</th>\n",
              "      <th>Sleep Duration</th>\n",
              "      <th>Quality of Sleep</th>\n",
              "      <th>Physical Activity Level</th>\n",
              "      <th>Stress Level</th>\n",
              "      <th>BMI Category</th>\n",
              "      <th>Blood Pressure</th>\n",
              "      <th>Heart Rate</th>\n",
              "      <th>Daily Steps</th>\n",
              "      <th>Sleep Disorder</th>\n",
              "    </tr>\n",
              "  </thead>\n",
              "  <tbody>\n",
              "    <tr>\n",
              "      <th>0</th>\n",
              "      <td>1</td>\n",
              "      <td>Male</td>\n",
              "      <td>27</td>\n",
              "      <td>Software Engineer</td>\n",
              "      <td>6.1</td>\n",
              "      <td>6</td>\n",
              "      <td>42</td>\n",
              "      <td>6</td>\n",
              "      <td>Overweight</td>\n",
              "      <td>126/83</td>\n",
              "      <td>77</td>\n",
              "      <td>4200</td>\n",
              "      <td>None</td>\n",
              "    </tr>\n",
              "    <tr>\n",
              "      <th>1</th>\n",
              "      <td>2</td>\n",
              "      <td>Male</td>\n",
              "      <td>28</td>\n",
              "      <td>Doctor</td>\n",
              "      <td>6.2</td>\n",
              "      <td>6</td>\n",
              "      <td>60</td>\n",
              "      <td>8</td>\n",
              "      <td>Normal</td>\n",
              "      <td>125/80</td>\n",
              "      <td>75</td>\n",
              "      <td>10000</td>\n",
              "      <td>None</td>\n",
              "    </tr>\n",
              "    <tr>\n",
              "      <th>2</th>\n",
              "      <td>3</td>\n",
              "      <td>Male</td>\n",
              "      <td>28</td>\n",
              "      <td>Doctor</td>\n",
              "      <td>6.2</td>\n",
              "      <td>6</td>\n",
              "      <td>60</td>\n",
              "      <td>8</td>\n",
              "      <td>Normal</td>\n",
              "      <td>125/80</td>\n",
              "      <td>75</td>\n",
              "      <td>10000</td>\n",
              "      <td>None</td>\n",
              "    </tr>\n",
              "    <tr>\n",
              "      <th>3</th>\n",
              "      <td>4</td>\n",
              "      <td>Male</td>\n",
              "      <td>28</td>\n",
              "      <td>Sales Representative</td>\n",
              "      <td>5.9</td>\n",
              "      <td>4</td>\n",
              "      <td>30</td>\n",
              "      <td>8</td>\n",
              "      <td>Obese</td>\n",
              "      <td>140/90</td>\n",
              "      <td>85</td>\n",
              "      <td>3000</td>\n",
              "      <td>Sleep Apnea</td>\n",
              "    </tr>\n",
              "    <tr>\n",
              "      <th>4</th>\n",
              "      <td>5</td>\n",
              "      <td>Male</td>\n",
              "      <td>28</td>\n",
              "      <td>Sales Representative</td>\n",
              "      <td>5.9</td>\n",
              "      <td>4</td>\n",
              "      <td>30</td>\n",
              "      <td>8</td>\n",
              "      <td>Obese</td>\n",
              "      <td>140/90</td>\n",
              "      <td>85</td>\n",
              "      <td>3000</td>\n",
              "      <td>Sleep Apnea</td>\n",
              "    </tr>\n",
              "    <tr>\n",
              "      <th>...</th>\n",
              "      <td>...</td>\n",
              "      <td>...</td>\n",
              "      <td>...</td>\n",
              "      <td>...</td>\n",
              "      <td>...</td>\n",
              "      <td>...</td>\n",
              "      <td>...</td>\n",
              "      <td>...</td>\n",
              "      <td>...</td>\n",
              "      <td>...</td>\n",
              "      <td>...</td>\n",
              "      <td>...</td>\n",
              "      <td>...</td>\n",
              "    </tr>\n",
              "    <tr>\n",
              "      <th>369</th>\n",
              "      <td>370</td>\n",
              "      <td>Female</td>\n",
              "      <td>59</td>\n",
              "      <td>Nurse</td>\n",
              "      <td>8.1</td>\n",
              "      <td>9</td>\n",
              "      <td>75</td>\n",
              "      <td>3</td>\n",
              "      <td>Overweight</td>\n",
              "      <td>140/95</td>\n",
              "      <td>68</td>\n",
              "      <td>7000</td>\n",
              "      <td>Sleep Apnea</td>\n",
              "    </tr>\n",
              "    <tr>\n",
              "      <th>370</th>\n",
              "      <td>371</td>\n",
              "      <td>Female</td>\n",
              "      <td>59</td>\n",
              "      <td>Nurse</td>\n",
              "      <td>8.0</td>\n",
              "      <td>9</td>\n",
              "      <td>75</td>\n",
              "      <td>3</td>\n",
              "      <td>Overweight</td>\n",
              "      <td>140/95</td>\n",
              "      <td>68</td>\n",
              "      <td>7000</td>\n",
              "      <td>Sleep Apnea</td>\n",
              "    </tr>\n",
              "    <tr>\n",
              "      <th>371</th>\n",
              "      <td>372</td>\n",
              "      <td>Female</td>\n",
              "      <td>59</td>\n",
              "      <td>Nurse</td>\n",
              "      <td>8.1</td>\n",
              "      <td>9</td>\n",
              "      <td>75</td>\n",
              "      <td>3</td>\n",
              "      <td>Overweight</td>\n",
              "      <td>140/95</td>\n",
              "      <td>68</td>\n",
              "      <td>7000</td>\n",
              "      <td>Sleep Apnea</td>\n",
              "    </tr>\n",
              "    <tr>\n",
              "      <th>372</th>\n",
              "      <td>373</td>\n",
              "      <td>Female</td>\n",
              "      <td>59</td>\n",
              "      <td>Nurse</td>\n",
              "      <td>8.1</td>\n",
              "      <td>9</td>\n",
              "      <td>75</td>\n",
              "      <td>3</td>\n",
              "      <td>Overweight</td>\n",
              "      <td>140/95</td>\n",
              "      <td>68</td>\n",
              "      <td>7000</td>\n",
              "      <td>Sleep Apnea</td>\n",
              "    </tr>\n",
              "    <tr>\n",
              "      <th>373</th>\n",
              "      <td>374</td>\n",
              "      <td>Female</td>\n",
              "      <td>59</td>\n",
              "      <td>Nurse</td>\n",
              "      <td>8.1</td>\n",
              "      <td>9</td>\n",
              "      <td>75</td>\n",
              "      <td>3</td>\n",
              "      <td>Overweight</td>\n",
              "      <td>140/95</td>\n",
              "      <td>68</td>\n",
              "      <td>7000</td>\n",
              "      <td>Sleep Apnea</td>\n",
              "    </tr>\n",
              "  </tbody>\n",
              "</table>\n",
              "<p>374 rows × 13 columns</p>\n",
              "</div>\n",
              "      <button class=\"colab-df-convert\" onclick=\"convertToInteractive('df-9ebbf281-9d00-4fb0-bcae-e1735c8396f1')\"\n",
              "              title=\"Convert this dataframe to an interactive table.\"\n",
              "              style=\"display:none;\">\n",
              "\n",
              "  <svg xmlns=\"http://www.w3.org/2000/svg\" height=\"24px\"viewBox=\"0 0 24 24\"\n",
              "       width=\"24px\">\n",
              "    <path d=\"M0 0h24v24H0V0z\" fill=\"none\"/>\n",
              "    <path d=\"M18.56 5.44l.94 2.06.94-2.06 2.06-.94-2.06-.94-.94-2.06-.94 2.06-2.06.94zm-11 1L8.5 8.5l.94-2.06 2.06-.94-2.06-.94L8.5 2.5l-.94 2.06-2.06.94zm10 10l.94 2.06.94-2.06 2.06-.94-2.06-.94-.94-2.06-.94 2.06-2.06.94z\"/><path d=\"M17.41 7.96l-1.37-1.37c-.4-.4-.92-.59-1.43-.59-.52 0-1.04.2-1.43.59L10.3 9.45l-7.72 7.72c-.78.78-.78 2.05 0 2.83L4 21.41c.39.39.9.59 1.41.59.51 0 1.02-.2 1.41-.59l7.78-7.78 2.81-2.81c.8-.78.8-2.07 0-2.86zM5.41 20L4 18.59l7.72-7.72 1.47 1.35L5.41 20z\"/>\n",
              "  </svg>\n",
              "      </button>\n",
              "\n",
              "\n",
              "\n",
              "    <div id=\"df-59e42367-ffad-4bef-b507-2366c32a5eed\">\n",
              "      <button class=\"colab-df-quickchart\" onclick=\"quickchart('df-59e42367-ffad-4bef-b507-2366c32a5eed')\"\n",
              "              title=\"Suggest charts.\"\n",
              "              style=\"display:none;\">\n",
              "\n",
              "<svg xmlns=\"http://www.w3.org/2000/svg\" height=\"24px\"viewBox=\"0 0 24 24\"\n",
              "     width=\"24px\">\n",
              "    <g>\n",
              "        <path d=\"M19 3H5c-1.1 0-2 .9-2 2v14c0 1.1.9 2 2 2h14c1.1 0 2-.9 2-2V5c0-1.1-.9-2-2-2zM9 17H7v-7h2v7zm4 0h-2V7h2v10zm4 0h-2v-4h2v4z\"/>\n",
              "    </g>\n",
              "</svg>\n",
              "      </button>\n",
              "    </div>\n",
              "\n",
              "<style>\n",
              "  .colab-df-quickchart {\n",
              "    background-color: #E8F0FE;\n",
              "    border: none;\n",
              "    border-radius: 50%;\n",
              "    cursor: pointer;\n",
              "    display: none;\n",
              "    fill: #1967D2;\n",
              "    height: 32px;\n",
              "    padding: 0 0 0 0;\n",
              "    width: 32px;\n",
              "  }\n",
              "\n",
              "  .colab-df-quickchart:hover {\n",
              "    background-color: #E2EBFA;\n",
              "    box-shadow: 0px 1px 2px rgba(60, 64, 67, 0.3), 0px 1px 3px 1px rgba(60, 64, 67, 0.15);\n",
              "    fill: #174EA6;\n",
              "  }\n",
              "\n",
              "  [theme=dark] .colab-df-quickchart {\n",
              "    background-color: #3B4455;\n",
              "    fill: #D2E3FC;\n",
              "  }\n",
              "\n",
              "  [theme=dark] .colab-df-quickchart:hover {\n",
              "    background-color: #434B5C;\n",
              "    box-shadow: 0px 1px 3px 1px rgba(0, 0, 0, 0.15);\n",
              "    filter: drop-shadow(0px 1px 2px rgba(0, 0, 0, 0.3));\n",
              "    fill: #FFFFFF;\n",
              "  }\n",
              "</style>\n",
              "\n",
              "    <script>\n",
              "      async function quickchart(key) {\n",
              "        const containerElement = document.querySelector('#' + key);\n",
              "        const charts = await google.colab.kernel.invokeFunction(\n",
              "            'suggestCharts', [key], {});\n",
              "      }\n",
              "    </script>\n",
              "\n",
              "      <script>\n",
              "\n",
              "function displayQuickchartButton(domScope) {\n",
              "  let quickchartButtonEl =\n",
              "    domScope.querySelector('#df-59e42367-ffad-4bef-b507-2366c32a5eed button.colab-df-quickchart');\n",
              "  quickchartButtonEl.style.display =\n",
              "    google.colab.kernel.accessAllowed ? 'block' : 'none';\n",
              "}\n",
              "\n",
              "        displayQuickchartButton(document);\n",
              "      </script>\n",
              "      <style>\n",
              "    .colab-df-container {\n",
              "      display:flex;\n",
              "      flex-wrap:wrap;\n",
              "      gap: 12px;\n",
              "    }\n",
              "\n",
              "    .colab-df-convert {\n",
              "      background-color: #E8F0FE;\n",
              "      border: none;\n",
              "      border-radius: 50%;\n",
              "      cursor: pointer;\n",
              "      display: none;\n",
              "      fill: #1967D2;\n",
              "      height: 32px;\n",
              "      padding: 0 0 0 0;\n",
              "      width: 32px;\n",
              "    }\n",
              "\n",
              "    .colab-df-convert:hover {\n",
              "      background-color: #E2EBFA;\n",
              "      box-shadow: 0px 1px 2px rgba(60, 64, 67, 0.3), 0px 1px 3px 1px rgba(60, 64, 67, 0.15);\n",
              "      fill: #174EA6;\n",
              "    }\n",
              "\n",
              "    [theme=dark] .colab-df-convert {\n",
              "      background-color: #3B4455;\n",
              "      fill: #D2E3FC;\n",
              "    }\n",
              "\n",
              "    [theme=dark] .colab-df-convert:hover {\n",
              "      background-color: #434B5C;\n",
              "      box-shadow: 0px 1px 3px 1px rgba(0, 0, 0, 0.15);\n",
              "      filter: drop-shadow(0px 1px 2px rgba(0, 0, 0, 0.3));\n",
              "      fill: #FFFFFF;\n",
              "    }\n",
              "  </style>\n",
              "\n",
              "      <script>\n",
              "        const buttonEl =\n",
              "          document.querySelector('#df-9ebbf281-9d00-4fb0-bcae-e1735c8396f1 button.colab-df-convert');\n",
              "        buttonEl.style.display =\n",
              "          google.colab.kernel.accessAllowed ? 'block' : 'none';\n",
              "\n",
              "        async function convertToInteractive(key) {\n",
              "          const element = document.querySelector('#df-9ebbf281-9d00-4fb0-bcae-e1735c8396f1');\n",
              "          const dataTable =\n",
              "            await google.colab.kernel.invokeFunction('convertToInteractive',\n",
              "                                                     [key], {});\n",
              "          if (!dataTable) return;\n",
              "\n",
              "          const docLinkHtml = 'Like what you see? Visit the ' +\n",
              "            '<a target=\"_blank\" href=https://colab.research.google.com/notebooks/data_table.ipynb>data table notebook</a>'\n",
              "            + ' to learn more about interactive tables.';\n",
              "          element.innerHTML = '';\n",
              "          dataTable['output_type'] = 'display_data';\n",
              "          await google.colab.output.renderOutput(dataTable, element);\n",
              "          const docLink = document.createElement('div');\n",
              "          docLink.innerHTML = docLinkHtml;\n",
              "          element.appendChild(docLink);\n",
              "        }\n",
              "      </script>\n",
              "    </div>\n",
              "  </div>\n"
            ]
          },
          "metadata": {},
          "execution_count": 1
        }
      ],
      "source": [
        "import pandas as pd\n",
        "df=pd.read_csv('/content/drive/MyDrive/dataset/Project/Sleep_health_and_lifestyle_dataset (1).csv')\n",
        "df"
      ]
    },
    {
      "cell_type": "markdown",
      "source": [
        "## Exploratory Data Analysis\n",
        "\n",
        "\n"
      ],
      "metadata": {
        "id": "MXrY_RwKeG1n"
      }
    },
    {
      "cell_type": "code",
      "source": [
        "df.info()"
      ],
      "metadata": {
        "colab": {
          "base_uri": "https://localhost:8080/"
        },
        "id": "zX2Yfoq_nTFs",
        "outputId": "2cd3df49-e0c8-44e3-803e-c6f400121b91"
      },
      "execution_count": null,
      "outputs": [
        {
          "output_type": "stream",
          "name": "stdout",
          "text": [
            "<class 'pandas.core.frame.DataFrame'>\n",
            "RangeIndex: 374 entries, 0 to 373\n",
            "Data columns (total 13 columns):\n",
            " #   Column                   Non-Null Count  Dtype  \n",
            "---  ------                   --------------  -----  \n",
            " 0   Person ID                374 non-null    int64  \n",
            " 1   Gender                   374 non-null    object \n",
            " 2   Age                      374 non-null    int64  \n",
            " 3   Occupation               374 non-null    object \n",
            " 4   Sleep Duration           374 non-null    float64\n",
            " 5   Quality of Sleep         374 non-null    int64  \n",
            " 6   Physical Activity Level  374 non-null    int64  \n",
            " 7   Stress Level             374 non-null    int64  \n",
            " 8   BMI Category             374 non-null    object \n",
            " 9   Blood Pressure           374 non-null    object \n",
            " 10  Heart Rate               374 non-null    int64  \n",
            " 11  Daily Steps              374 non-null    int64  \n",
            " 12  Sleep Disorder           374 non-null    object \n",
            "dtypes: float64(1), int64(7), object(5)\n",
            "memory usage: 38.1+ KB\n"
          ]
        }
      ]
    },
    {
      "cell_type": "code",
      "source": [
        "df.dtypes"
      ],
      "metadata": {
        "colab": {
          "base_uri": "https://localhost:8080/"
        },
        "id": "MiHiG1iPeGb0",
        "outputId": "2d65ae8f-4536-420e-c438-989dbb7a9bd0"
      },
      "execution_count": null,
      "outputs": [
        {
          "output_type": "execute_result",
          "data": {
            "text/plain": [
              "Person ID                    int64\n",
              "Gender                      object\n",
              "Age                          int64\n",
              "Occupation                  object\n",
              "Sleep Duration             float64\n",
              "Quality of Sleep             int64\n",
              "Physical Activity Level      int64\n",
              "Stress Level                 int64\n",
              "BMI Category                object\n",
              "Blood Pressure              object\n",
              "Heart Rate                   int64\n",
              "Daily Steps                  int64\n",
              "Sleep Disorder              object\n",
              "dtype: object"
            ]
          },
          "metadata": {},
          "execution_count": 3
        }
      ]
    },
    {
      "cell_type": "code",
      "source": [
        "df.isna().sum()"
      ],
      "metadata": {
        "colab": {
          "base_uri": "https://localhost:8080/"
        },
        "id": "SuIXLkNFeUus",
        "outputId": "5bfdb08a-dc26-427d-ad8b-cd7ee4ab2c44"
      },
      "execution_count": null,
      "outputs": [
        {
          "output_type": "execute_result",
          "data": {
            "text/plain": [
              "Person ID                  0\n",
              "Gender                     0\n",
              "Age                        0\n",
              "Occupation                 0\n",
              "Sleep Duration             0\n",
              "Quality of Sleep           0\n",
              "Physical Activity Level    0\n",
              "Stress Level               0\n",
              "BMI Category               0\n",
              "Blood Pressure             0\n",
              "Heart Rate                 0\n",
              "Daily Steps                0\n",
              "Sleep Disorder             0\n",
              "dtype: int64"
            ]
          },
          "metadata": {},
          "execution_count": 4
        }
      ]
    },
    {
      "cell_type": "code",
      "source": [
        "print('No.of rows:',df.shape[0])\n",
        "print('No.of columns:',df.shape[1])"
      ],
      "metadata": {
        "colab": {
          "base_uri": "https://localhost:8080/"
        },
        "id": "bPB3E26ccDfg",
        "outputId": "1b01765a-2276-4a7b-e69d-a997552598bf"
      },
      "execution_count": null,
      "outputs": [
        {
          "output_type": "stream",
          "name": "stdout",
          "text": [
            "No.of rows: 374\n",
            "No.of columns: 13\n"
          ]
        }
      ]
    },
    {
      "cell_type": "code",
      "source": [
        "df['Heart Rate'].value_counts()"
      ],
      "metadata": {
        "colab": {
          "base_uri": "https://localhost:8080/"
        },
        "id": "UqOA5Jhfw_Ob",
        "outputId": "9f2585c6-a046-47c1-80c9-b3574ae44998"
      },
      "execution_count": null,
      "outputs": [
        {
          "output_type": "execute_result",
          "data": {
            "text/plain": [
              "68    94\n",
              "70    76\n",
              "72    69\n",
              "65    67\n",
              "75    36\n",
              "78     5\n",
              "85     3\n",
              "80     3\n",
              "84     2\n",
              "83     2\n",
              "73     2\n",
              "67     2\n",
              "74     2\n",
              "77     2\n",
              "81     2\n",
              "76     2\n",
              "69     2\n",
              "86     2\n",
              "82     1\n",
              "Name: Heart Rate, dtype: int64"
            ]
          },
          "metadata": {},
          "execution_count": 6
        }
      ]
    },
    {
      "cell_type": "code",
      "source": [
        "df['Sleep Disorder'].value_counts()"
      ],
      "metadata": {
        "colab": {
          "base_uri": "https://localhost:8080/"
        },
        "id": "2NDS44pUeZM7",
        "outputId": "dfd14024-61af-4c2c-8806-a4d656df1e58"
      },
      "execution_count": null,
      "outputs": [
        {
          "output_type": "execute_result",
          "data": {
            "text/plain": [
              "None           219\n",
              "Sleep Apnea     78\n",
              "Insomnia        77\n",
              "Name: Sleep Disorder, dtype: int64"
            ]
          },
          "metadata": {},
          "execution_count": 7
        }
      ]
    },
    {
      "cell_type": "code",
      "source": [
        "df['BMI Category'].value_counts()"
      ],
      "metadata": {
        "colab": {
          "base_uri": "https://localhost:8080/"
        },
        "id": "-OKBsJ0XfUaA",
        "outputId": "df2d1cb2-effa-4b08-f7ea-409072b35ae1"
      },
      "execution_count": null,
      "outputs": [
        {
          "output_type": "execute_result",
          "data": {
            "text/plain": [
              "Normal           195\n",
              "Overweight       148\n",
              "Normal Weight     21\n",
              "Obese             10\n",
              "Name: BMI Category, dtype: int64"
            ]
          },
          "metadata": {},
          "execution_count": 8
        }
      ]
    },
    {
      "cell_type": "code",
      "source": [
        "df['Occupation'].value_counts()"
      ],
      "metadata": {
        "colab": {
          "base_uri": "https://localhost:8080/"
        },
        "id": "2oKIcnnHiqxF",
        "outputId": "95800fd3-172c-42a0-8808-502d45b54a06"
      },
      "execution_count": null,
      "outputs": [
        {
          "output_type": "execute_result",
          "data": {
            "text/plain": [
              "Nurse                   73\n",
              "Doctor                  71\n",
              "Engineer                63\n",
              "Lawyer                  47\n",
              "Teacher                 40\n",
              "Accountant              37\n",
              "Salesperson             32\n",
              "Software Engineer        4\n",
              "Scientist                4\n",
              "Sales Representative     2\n",
              "Manager                  1\n",
              "Name: Occupation, dtype: int64"
            ]
          },
          "metadata": {},
          "execution_count": 9
        }
      ]
    },
    {
      "cell_type": "code",
      "source": [
        "df.drop(['Person ID'],axis=1,inplace=True)"
      ],
      "metadata": {
        "id": "hrVvxQVufnDd"
      },
      "execution_count": null,
      "outputs": []
    },
    {
      "cell_type": "markdown",
      "source": [
        "## Data Preprocessing"
      ],
      "metadata": {
        "id": "EIoNWOABgpEe"
      }
    },
    {
      "cell_type": "code",
      "source": [
        "import matplotlib.pyplot as plt\n",
        "import warnings\n",
        "warnings.filterwarnings('ignore')\n",
        "import seaborn as sns\n",
        "import numpy as np\n",
        "import seaborn as sns\n",
        "from sklearn.preprocessing import MinMaxScaler,LabelEncoder,FunctionTransformer\n",
        "from sklearn.model_selection import train_test_split,GridSearchCV\n",
        "from sklearn.neighbors import KNeighborsClassifier\n",
        "from sklearn.svm import SVC\n",
        "from sklearn.naive_bayes import GaussianNB\n",
        "from sklearn.metrics import accuracy_score,classification_report,ConfusionMatrixDisplay\n",
        "from sklearn.tree import DecisionTreeClassifier\n",
        "from sklearn import tree\n",
        "from sklearn.ensemble import RandomForestClassifier,AdaBoostClassifier,GradientBoostingClassifier\n",
        "from imblearn.over_sampling import SMOTE\n",
        "from xgboost import XGBClassifier\n",
        "from sklearn.feature_selection import SelectKBest,chi2\n",
        "from lightgbm import LGBMClassifier\n",
        "from sklearn.decomposition import PCA"
      ],
      "metadata": {
        "id": "lX4pNZaKgayV"
      },
      "execution_count": null,
      "outputs": []
    },
    {
      "cell_type": "code",
      "source": [
        "Ge=LabelEncoder()\n",
        "BMI=LabelEncoder()\n",
        "Oc=LabelEncoder()"
      ],
      "metadata": {
        "id": "n_nwMt7_ueSO"
      },
      "execution_count": null,
      "outputs": []
    },
    {
      "cell_type": "code",
      "source": [
        "df['Gender']=Ge.fit_transform(df['Gender'])\n",
        "df['BMI Category']=BMI.fit_transform(df['BMI Category'])\n",
        "df['Occupation']=Oc.fit_transform(df['Occupation'])"
      ],
      "metadata": {
        "id": "vevnwW5pu9Gf"
      },
      "execution_count": null,
      "outputs": []
    },
    {
      "cell_type": "code",
      "source": [
        "df['BP_sys'] = [BP.split('/')[0] for BP in df['Blood Pressure']]\n",
        "df['BP_dias'] = [BP.split('/')[1] for BP in df['Blood Pressure']]\n",
        "df.BP_sys = df.BP_sys.astype('float64')\n",
        "df.BP_dias = df.BP_dias.astype('float64')\n",
        "\n",
        "df.drop(columns=['Blood Pressure'],axis=1,inplace=True)"
      ],
      "metadata": {
        "id": "-l5HcvSzM7qQ"
      },
      "execution_count": null,
      "outputs": []
    },
    {
      "cell_type": "code",
      "source": [
        "df_columns = df.columns.to_list()\n",
        "df_columns.remove('Sleep Disorder')\n",
        "df_columns.append('Sleep Disorder')\n",
        "df = df[df_columns]"
      ],
      "metadata": {
        "id": "zWPv3FNcQkfC"
      },
      "execution_count": null,
      "outputs": []
    },
    {
      "cell_type": "code",
      "source": [
        "df.columns"
      ],
      "metadata": {
        "colab": {
          "base_uri": "https://localhost:8080/"
        },
        "id": "IDjHgZOHTbGu",
        "outputId": "0e514dd0-9fe7-4385-de1b-04c26cb73ef6"
      },
      "execution_count": null,
      "outputs": [
        {
          "output_type": "execute_result",
          "data": {
            "text/plain": [
              "Index(['Gender', 'Age', 'Occupation', 'Sleep Duration', 'Quality of Sleep',\n",
              "       'Physical Activity Level', 'Stress Level', 'BMI Category', 'Heart Rate',\n",
              "       'Daily Steps', 'BP_sys', 'BP_dias', 'Sleep Disorder'],\n",
              "      dtype='object')"
            ]
          },
          "metadata": {},
          "execution_count": 16
        }
      ]
    },
    {
      "cell_type": "code",
      "source": [
        "def detect_outliers_iqr_feature(data,feature):\n",
        "  feature_data=data[feature]\n",
        "  Q1=np.percentile(feature_data,25)\n",
        "  Q3=np.percentile(feature_data,75)\n",
        "  iqr=Q3-Q1\n",
        "  lower_bound=Q1-1.5*iqr\n",
        "  upperbound=Q3+1.5*iqr"
      ],
      "metadata": {
        "id": "9XAdKpObWz8z"
      },
      "execution_count": null,
      "outputs": []
    },
    {
      "cell_type": "code",
      "source": [
        "feature_name=['Age','Sleep Duration', 'Quality of Sleep','Physical Activity Level', 'Stress Level',\n",
        "              'Heart Rate','Daily Steps', 'BP_sys', 'BP_dias']\n",
        "for i in feature_name:\n",
        "  outliers=detect_outliers_iqr_feature (df,i)\n",
        "  print(\"Outliers are present in\",i,\":\",outliers)"
      ],
      "metadata": {
        "colab": {
          "base_uri": "https://localhost:8080/"
        },
        "id": "qRIVjQHvTENE",
        "outputId": "233d9599-3f4e-45c4-9658-e078da7e7b62"
      },
      "execution_count": null,
      "outputs": [
        {
          "output_type": "stream",
          "name": "stdout",
          "text": [
            "Outliers are present in Age : None\n",
            "Outliers are present in Sleep Duration : None\n",
            "Outliers are present in Quality of Sleep : None\n",
            "Outliers are present in Physical Activity Level : None\n",
            "Outliers are present in Stress Level : None\n",
            "Outliers are present in Heart Rate : None\n",
            "Outliers are present in Daily Steps : None\n",
            "Outliers are present in BP_sys : None\n",
            "Outliers are present in BP_dias : None\n"
          ]
        }
      ]
    },
    {
      "cell_type": "code",
      "source": [
        "df"
      ],
      "metadata": {
        "colab": {
          "base_uri": "https://localhost:8080/",
          "height": 485
        },
        "id": "AmBLHh1nZ9Hr",
        "outputId": "b32b6098-3cb4-427f-cbe1-63006226c007"
      },
      "execution_count": null,
      "outputs": [
        {
          "output_type": "execute_result",
          "data": {
            "text/plain": [
              "     Gender  Age  Occupation  Sleep Duration  Quality of Sleep  \\\n",
              "0         1   27           9             6.1                 6   \n",
              "1         1   28           1             6.2                 6   \n",
              "2         1   28           1             6.2                 6   \n",
              "3         1   28           6             5.9                 4   \n",
              "4         1   28           6             5.9                 4   \n",
              "..      ...  ...         ...             ...               ...   \n",
              "369       0   59           5             8.1                 9   \n",
              "370       0   59           5             8.0                 9   \n",
              "371       0   59           5             8.1                 9   \n",
              "372       0   59           5             8.1                 9   \n",
              "373       0   59           5             8.1                 9   \n",
              "\n",
              "     Physical Activity Level  Stress Level  BMI Category  Heart Rate  \\\n",
              "0                         42             6             3          77   \n",
              "1                         60             8             0          75   \n",
              "2                         60             8             0          75   \n",
              "3                         30             8             2          85   \n",
              "4                         30             8             2          85   \n",
              "..                       ...           ...           ...         ...   \n",
              "369                       75             3             3          68   \n",
              "370                       75             3             3          68   \n",
              "371                       75             3             3          68   \n",
              "372                       75             3             3          68   \n",
              "373                       75             3             3          68   \n",
              "\n",
              "     Daily Steps  BP_sys  BP_dias Sleep Disorder  \n",
              "0           4200   126.0     83.0           None  \n",
              "1          10000   125.0     80.0           None  \n",
              "2          10000   125.0     80.0           None  \n",
              "3           3000   140.0     90.0    Sleep Apnea  \n",
              "4           3000   140.0     90.0    Sleep Apnea  \n",
              "..           ...     ...      ...            ...  \n",
              "369         7000   140.0     95.0    Sleep Apnea  \n",
              "370         7000   140.0     95.0    Sleep Apnea  \n",
              "371         7000   140.0     95.0    Sleep Apnea  \n",
              "372         7000   140.0     95.0    Sleep Apnea  \n",
              "373         7000   140.0     95.0    Sleep Apnea  \n",
              "\n",
              "[374 rows x 13 columns]"
            ],
            "text/html": [
              "\n",
              "\n",
              "  <div id=\"df-e031a86a-7e1b-4419-8e41-bef37635d3b0\">\n",
              "    <div class=\"colab-df-container\">\n",
              "      <div>\n",
              "<style scoped>\n",
              "    .dataframe tbody tr th:only-of-type {\n",
              "        vertical-align: middle;\n",
              "    }\n",
              "\n",
              "    .dataframe tbody tr th {\n",
              "        vertical-align: top;\n",
              "    }\n",
              "\n",
              "    .dataframe thead th {\n",
              "        text-align: right;\n",
              "    }\n",
              "</style>\n",
              "<table border=\"1\" class=\"dataframe\">\n",
              "  <thead>\n",
              "    <tr style=\"text-align: right;\">\n",
              "      <th></th>\n",
              "      <th>Gender</th>\n",
              "      <th>Age</th>\n",
              "      <th>Occupation</th>\n",
              "      <th>Sleep Duration</th>\n",
              "      <th>Quality of Sleep</th>\n",
              "      <th>Physical Activity Level</th>\n",
              "      <th>Stress Level</th>\n",
              "      <th>BMI Category</th>\n",
              "      <th>Heart Rate</th>\n",
              "      <th>Daily Steps</th>\n",
              "      <th>BP_sys</th>\n",
              "      <th>BP_dias</th>\n",
              "      <th>Sleep Disorder</th>\n",
              "    </tr>\n",
              "  </thead>\n",
              "  <tbody>\n",
              "    <tr>\n",
              "      <th>0</th>\n",
              "      <td>1</td>\n",
              "      <td>27</td>\n",
              "      <td>9</td>\n",
              "      <td>6.1</td>\n",
              "      <td>6</td>\n",
              "      <td>42</td>\n",
              "      <td>6</td>\n",
              "      <td>3</td>\n",
              "      <td>77</td>\n",
              "      <td>4200</td>\n",
              "      <td>126.0</td>\n",
              "      <td>83.0</td>\n",
              "      <td>None</td>\n",
              "    </tr>\n",
              "    <tr>\n",
              "      <th>1</th>\n",
              "      <td>1</td>\n",
              "      <td>28</td>\n",
              "      <td>1</td>\n",
              "      <td>6.2</td>\n",
              "      <td>6</td>\n",
              "      <td>60</td>\n",
              "      <td>8</td>\n",
              "      <td>0</td>\n",
              "      <td>75</td>\n",
              "      <td>10000</td>\n",
              "      <td>125.0</td>\n",
              "      <td>80.0</td>\n",
              "      <td>None</td>\n",
              "    </tr>\n",
              "    <tr>\n",
              "      <th>2</th>\n",
              "      <td>1</td>\n",
              "      <td>28</td>\n",
              "      <td>1</td>\n",
              "      <td>6.2</td>\n",
              "      <td>6</td>\n",
              "      <td>60</td>\n",
              "      <td>8</td>\n",
              "      <td>0</td>\n",
              "      <td>75</td>\n",
              "      <td>10000</td>\n",
              "      <td>125.0</td>\n",
              "      <td>80.0</td>\n",
              "      <td>None</td>\n",
              "    </tr>\n",
              "    <tr>\n",
              "      <th>3</th>\n",
              "      <td>1</td>\n",
              "      <td>28</td>\n",
              "      <td>6</td>\n",
              "      <td>5.9</td>\n",
              "      <td>4</td>\n",
              "      <td>30</td>\n",
              "      <td>8</td>\n",
              "      <td>2</td>\n",
              "      <td>85</td>\n",
              "      <td>3000</td>\n",
              "      <td>140.0</td>\n",
              "      <td>90.0</td>\n",
              "      <td>Sleep Apnea</td>\n",
              "    </tr>\n",
              "    <tr>\n",
              "      <th>4</th>\n",
              "      <td>1</td>\n",
              "      <td>28</td>\n",
              "      <td>6</td>\n",
              "      <td>5.9</td>\n",
              "      <td>4</td>\n",
              "      <td>30</td>\n",
              "      <td>8</td>\n",
              "      <td>2</td>\n",
              "      <td>85</td>\n",
              "      <td>3000</td>\n",
              "      <td>140.0</td>\n",
              "      <td>90.0</td>\n",
              "      <td>Sleep Apnea</td>\n",
              "    </tr>\n",
              "    <tr>\n",
              "      <th>...</th>\n",
              "      <td>...</td>\n",
              "      <td>...</td>\n",
              "      <td>...</td>\n",
              "      <td>...</td>\n",
              "      <td>...</td>\n",
              "      <td>...</td>\n",
              "      <td>...</td>\n",
              "      <td>...</td>\n",
              "      <td>...</td>\n",
              "      <td>...</td>\n",
              "      <td>...</td>\n",
              "      <td>...</td>\n",
              "      <td>...</td>\n",
              "    </tr>\n",
              "    <tr>\n",
              "      <th>369</th>\n",
              "      <td>0</td>\n",
              "      <td>59</td>\n",
              "      <td>5</td>\n",
              "      <td>8.1</td>\n",
              "      <td>9</td>\n",
              "      <td>75</td>\n",
              "      <td>3</td>\n",
              "      <td>3</td>\n",
              "      <td>68</td>\n",
              "      <td>7000</td>\n",
              "      <td>140.0</td>\n",
              "      <td>95.0</td>\n",
              "      <td>Sleep Apnea</td>\n",
              "    </tr>\n",
              "    <tr>\n",
              "      <th>370</th>\n",
              "      <td>0</td>\n",
              "      <td>59</td>\n",
              "      <td>5</td>\n",
              "      <td>8.0</td>\n",
              "      <td>9</td>\n",
              "      <td>75</td>\n",
              "      <td>3</td>\n",
              "      <td>3</td>\n",
              "      <td>68</td>\n",
              "      <td>7000</td>\n",
              "      <td>140.0</td>\n",
              "      <td>95.0</td>\n",
              "      <td>Sleep Apnea</td>\n",
              "    </tr>\n",
              "    <tr>\n",
              "      <th>371</th>\n",
              "      <td>0</td>\n",
              "      <td>59</td>\n",
              "      <td>5</td>\n",
              "      <td>8.1</td>\n",
              "      <td>9</td>\n",
              "      <td>75</td>\n",
              "      <td>3</td>\n",
              "      <td>3</td>\n",
              "      <td>68</td>\n",
              "      <td>7000</td>\n",
              "      <td>140.0</td>\n",
              "      <td>95.0</td>\n",
              "      <td>Sleep Apnea</td>\n",
              "    </tr>\n",
              "    <tr>\n",
              "      <th>372</th>\n",
              "      <td>0</td>\n",
              "      <td>59</td>\n",
              "      <td>5</td>\n",
              "      <td>8.1</td>\n",
              "      <td>9</td>\n",
              "      <td>75</td>\n",
              "      <td>3</td>\n",
              "      <td>3</td>\n",
              "      <td>68</td>\n",
              "      <td>7000</td>\n",
              "      <td>140.0</td>\n",
              "      <td>95.0</td>\n",
              "      <td>Sleep Apnea</td>\n",
              "    </tr>\n",
              "    <tr>\n",
              "      <th>373</th>\n",
              "      <td>0</td>\n",
              "      <td>59</td>\n",
              "      <td>5</td>\n",
              "      <td>8.1</td>\n",
              "      <td>9</td>\n",
              "      <td>75</td>\n",
              "      <td>3</td>\n",
              "      <td>3</td>\n",
              "      <td>68</td>\n",
              "      <td>7000</td>\n",
              "      <td>140.0</td>\n",
              "      <td>95.0</td>\n",
              "      <td>Sleep Apnea</td>\n",
              "    </tr>\n",
              "  </tbody>\n",
              "</table>\n",
              "<p>374 rows × 13 columns</p>\n",
              "</div>\n",
              "      <button class=\"colab-df-convert\" onclick=\"convertToInteractive('df-e031a86a-7e1b-4419-8e41-bef37635d3b0')\"\n",
              "              title=\"Convert this dataframe to an interactive table.\"\n",
              "              style=\"display:none;\">\n",
              "\n",
              "  <svg xmlns=\"http://www.w3.org/2000/svg\" height=\"24px\"viewBox=\"0 0 24 24\"\n",
              "       width=\"24px\">\n",
              "    <path d=\"M0 0h24v24H0V0z\" fill=\"none\"/>\n",
              "    <path d=\"M18.56 5.44l.94 2.06.94-2.06 2.06-.94-2.06-.94-.94-2.06-.94 2.06-2.06.94zm-11 1L8.5 8.5l.94-2.06 2.06-.94-2.06-.94L8.5 2.5l-.94 2.06-2.06.94zm10 10l.94 2.06.94-2.06 2.06-.94-2.06-.94-.94-2.06-.94 2.06-2.06.94z\"/><path d=\"M17.41 7.96l-1.37-1.37c-.4-.4-.92-.59-1.43-.59-.52 0-1.04.2-1.43.59L10.3 9.45l-7.72 7.72c-.78.78-.78 2.05 0 2.83L4 21.41c.39.39.9.59 1.41.59.51 0 1.02-.2 1.41-.59l7.78-7.78 2.81-2.81c.8-.78.8-2.07 0-2.86zM5.41 20L4 18.59l7.72-7.72 1.47 1.35L5.41 20z\"/>\n",
              "  </svg>\n",
              "      </button>\n",
              "\n",
              "\n",
              "\n",
              "    <div id=\"df-4dfd05fc-90a2-4b6e-9d50-7d73fe801970\">\n",
              "      <button class=\"colab-df-quickchart\" onclick=\"quickchart('df-4dfd05fc-90a2-4b6e-9d50-7d73fe801970')\"\n",
              "              title=\"Suggest charts.\"\n",
              "              style=\"display:none;\">\n",
              "\n",
              "<svg xmlns=\"http://www.w3.org/2000/svg\" height=\"24px\"viewBox=\"0 0 24 24\"\n",
              "     width=\"24px\">\n",
              "    <g>\n",
              "        <path d=\"M19 3H5c-1.1 0-2 .9-2 2v14c0 1.1.9 2 2 2h14c1.1 0 2-.9 2-2V5c0-1.1-.9-2-2-2zM9 17H7v-7h2v7zm4 0h-2V7h2v10zm4 0h-2v-4h2v4z\"/>\n",
              "    </g>\n",
              "</svg>\n",
              "      </button>\n",
              "    </div>\n",
              "\n",
              "<style>\n",
              "  .colab-df-quickchart {\n",
              "    background-color: #E8F0FE;\n",
              "    border: none;\n",
              "    border-radius: 50%;\n",
              "    cursor: pointer;\n",
              "    display: none;\n",
              "    fill: #1967D2;\n",
              "    height: 32px;\n",
              "    padding: 0 0 0 0;\n",
              "    width: 32px;\n",
              "  }\n",
              "\n",
              "  .colab-df-quickchart:hover {\n",
              "    background-color: #E2EBFA;\n",
              "    box-shadow: 0px 1px 2px rgba(60, 64, 67, 0.3), 0px 1px 3px 1px rgba(60, 64, 67, 0.15);\n",
              "    fill: #174EA6;\n",
              "  }\n",
              "\n",
              "  [theme=dark] .colab-df-quickchart {\n",
              "    background-color: #3B4455;\n",
              "    fill: #D2E3FC;\n",
              "  }\n",
              "\n",
              "  [theme=dark] .colab-df-quickchart:hover {\n",
              "    background-color: #434B5C;\n",
              "    box-shadow: 0px 1px 3px 1px rgba(0, 0, 0, 0.15);\n",
              "    filter: drop-shadow(0px 1px 2px rgba(0, 0, 0, 0.3));\n",
              "    fill: #FFFFFF;\n",
              "  }\n",
              "</style>\n",
              "\n",
              "    <script>\n",
              "      async function quickchart(key) {\n",
              "        const containerElement = document.querySelector('#' + key);\n",
              "        const charts = await google.colab.kernel.invokeFunction(\n",
              "            'suggestCharts', [key], {});\n",
              "      }\n",
              "    </script>\n",
              "\n",
              "      <script>\n",
              "\n",
              "function displayQuickchartButton(domScope) {\n",
              "  let quickchartButtonEl =\n",
              "    domScope.querySelector('#df-4dfd05fc-90a2-4b6e-9d50-7d73fe801970 button.colab-df-quickchart');\n",
              "  quickchartButtonEl.style.display =\n",
              "    google.colab.kernel.accessAllowed ? 'block' : 'none';\n",
              "}\n",
              "\n",
              "        displayQuickchartButton(document);\n",
              "      </script>\n",
              "      <style>\n",
              "    .colab-df-container {\n",
              "      display:flex;\n",
              "      flex-wrap:wrap;\n",
              "      gap: 12px;\n",
              "    }\n",
              "\n",
              "    .colab-df-convert {\n",
              "      background-color: #E8F0FE;\n",
              "      border: none;\n",
              "      border-radius: 50%;\n",
              "      cursor: pointer;\n",
              "      display: none;\n",
              "      fill: #1967D2;\n",
              "      height: 32px;\n",
              "      padding: 0 0 0 0;\n",
              "      width: 32px;\n",
              "    }\n",
              "\n",
              "    .colab-df-convert:hover {\n",
              "      background-color: #E2EBFA;\n",
              "      box-shadow: 0px 1px 2px rgba(60, 64, 67, 0.3), 0px 1px 3px 1px rgba(60, 64, 67, 0.15);\n",
              "      fill: #174EA6;\n",
              "    }\n",
              "\n",
              "    [theme=dark] .colab-df-convert {\n",
              "      background-color: #3B4455;\n",
              "      fill: #D2E3FC;\n",
              "    }\n",
              "\n",
              "    [theme=dark] .colab-df-convert:hover {\n",
              "      background-color: #434B5C;\n",
              "      box-shadow: 0px 1px 3px 1px rgba(0, 0, 0, 0.15);\n",
              "      filter: drop-shadow(0px 1px 2px rgba(0, 0, 0, 0.3));\n",
              "      fill: #FFFFFF;\n",
              "    }\n",
              "  </style>\n",
              "\n",
              "      <script>\n",
              "        const buttonEl =\n",
              "          document.querySelector('#df-e031a86a-7e1b-4419-8e41-bef37635d3b0 button.colab-df-convert');\n",
              "        buttonEl.style.display =\n",
              "          google.colab.kernel.accessAllowed ? 'block' : 'none';\n",
              "\n",
              "        async function convertToInteractive(key) {\n",
              "          const element = document.querySelector('#df-e031a86a-7e1b-4419-8e41-bef37635d3b0');\n",
              "          const dataTable =\n",
              "            await google.colab.kernel.invokeFunction('convertToInteractive',\n",
              "                                                     [key], {});\n",
              "          if (!dataTable) return;\n",
              "\n",
              "          const docLinkHtml = 'Like what you see? Visit the ' +\n",
              "            '<a target=\"_blank\" href=https://colab.research.google.com/notebooks/data_table.ipynb>data table notebook</a>'\n",
              "            + ' to learn more about interactive tables.';\n",
              "          element.innerHTML = '';\n",
              "          dataTable['output_type'] = 'display_data';\n",
              "          await google.colab.output.renderOutput(dataTable, element);\n",
              "          const docLink = document.createElement('div');\n",
              "          docLink.innerHTML = docLinkHtml;\n",
              "          element.appendChild(docLink);\n",
              "        }\n",
              "      </script>\n",
              "    </div>\n",
              "  </div>\n"
            ]
          },
          "metadata": {},
          "execution_count": 19
        }
      ]
    },
    {
      "cell_type": "code",
      "source": [
        "df.isna().sum()"
      ],
      "metadata": {
        "colab": {
          "base_uri": "https://localhost:8080/"
        },
        "id": "1bt8ILPQF5HR",
        "outputId": "2a83289c-afa3-44fc-9817-6b97f7561222"
      },
      "execution_count": null,
      "outputs": [
        {
          "output_type": "execute_result",
          "data": {
            "text/plain": [
              "Gender                     0\n",
              "Age                        0\n",
              "Occupation                 0\n",
              "Sleep Duration             0\n",
              "Quality of Sleep           0\n",
              "Physical Activity Level    0\n",
              "Stress Level               0\n",
              "BMI Category               0\n",
              "Heart Rate                 0\n",
              "Daily Steps                0\n",
              "BP_sys                     0\n",
              "BP_dias                    0\n",
              "Sleep Disorder             0\n",
              "dtype: int64"
            ]
          },
          "metadata": {},
          "execution_count": 20
        }
      ]
    },
    {
      "cell_type": "markdown",
      "source": [
        "Since the dataset doesnot contains any missing values and ouliers, we can go to further proceedings."
      ],
      "metadata": {
        "id": "A6SNOneNbiDB"
      }
    },
    {
      "cell_type": "markdown",
      "source": [
        "## Data Visualization"
      ],
      "metadata": {
        "id": "GU7K0HedaRcb"
      }
    },
    {
      "cell_type": "code",
      "source": [
        "df.corr()"
      ],
      "metadata": {
        "colab": {
          "base_uri": "https://localhost:8080/",
          "height": 556
        },
        "id": "h6p2GDp_TRQ8",
        "outputId": "5723cd47-040b-4f41-82ce-6f021605e58b"
      },
      "execution_count": null,
      "outputs": [
        {
          "output_type": "execute_result",
          "data": {
            "text/plain": [
              "                           Gender       Age  Occupation  Sleep Duration  \\\n",
              "Gender                   1.000000 -0.596358   -0.219113       -0.121579   \n",
              "Age                     -0.596358  1.000000    0.231188        0.344709   \n",
              "Occupation              -0.219113  0.231188    1.000000       -0.325775   \n",
              "Sleep Duration          -0.121579  0.344709   -0.325775        1.000000   \n",
              "Quality of Sleep        -0.291366  0.473734   -0.278071        0.883213   \n",
              "Physical Activity Level  0.001454  0.178993   -0.103660        0.212360   \n",
              "Stress Level             0.396018 -0.422344    0.021123       -0.811023   \n",
              "BMI Category            -0.352060  0.511329    0.699504       -0.376358   \n",
              "Heart Rate               0.217105 -0.225606    0.043928       -0.516455   \n",
              "Daily Steps             -0.014509  0.057973   -0.105877       -0.039533   \n",
              "BP_sys                  -0.210527  0.605878    0.518561       -0.180406   \n",
              "BP_dias                 -0.268378  0.593839    0.521835       -0.166570   \n",
              "\n",
              "                         Quality of Sleep  Physical Activity Level  \\\n",
              "Gender                          -0.291366                 0.001454   \n",
              "Age                              0.473734                 0.178993   \n",
              "Occupation                      -0.278071                -0.103660   \n",
              "Sleep Duration                   0.883213                 0.212360   \n",
              "Quality of Sleep                 1.000000                 0.192896   \n",
              "Physical Activity Level          0.192896                 1.000000   \n",
              "Stress Level                    -0.898752                -0.034134   \n",
              "BMI Category                    -0.312562                 0.077156   \n",
              "Heart Rate                      -0.659865                 0.136971   \n",
              "Daily Steps                      0.016791                 0.772723   \n",
              "BP_sys                          -0.121632                 0.265416   \n",
              "BP_dias                         -0.110151                 0.382651   \n",
              "\n",
              "                         Stress Level  BMI Category  Heart Rate  Daily Steps  \\\n",
              "Gender                       0.396018     -0.352060    0.217105    -0.014509   \n",
              "Age                         -0.422344      0.511329   -0.225606     0.057973   \n",
              "Occupation                   0.021123      0.699504    0.043928    -0.105877   \n",
              "Sleep Duration              -0.811023     -0.376358   -0.516455    -0.039533   \n",
              "Quality of Sleep            -0.898752     -0.312562   -0.659865     0.016791   \n",
              "Physical Activity Level     -0.034134      0.077156    0.136971     0.772723   \n",
              "Stress Level                 1.000000      0.163895    0.670026     0.186829   \n",
              "BMI Category                 0.163895      1.000000    0.295585    -0.005059   \n",
              "Heart Rate                   0.670026      0.295585    1.000000    -0.030309   \n",
              "Daily Steps                  0.186829     -0.005059   -0.030309     1.000000   \n",
              "BP_sys                       0.102818      0.714057    0.294143     0.103342   \n",
              "BP_dias                      0.091811      0.750869    0.271092     0.241986   \n",
              "\n",
              "                           BP_sys   BP_dias  \n",
              "Gender                  -0.210527 -0.268378  \n",
              "Age                      0.605878  0.593839  \n",
              "Occupation               0.518561  0.521835  \n",
              "Sleep Duration          -0.180406 -0.166570  \n",
              "Quality of Sleep        -0.121632 -0.110151  \n",
              "Physical Activity Level  0.265416  0.382651  \n",
              "Stress Level             0.102818  0.091811  \n",
              "BMI Category             0.714057  0.750869  \n",
              "Heart Rate               0.294143  0.271092  \n",
              "Daily Steps              0.103342  0.241986  \n",
              "BP_sys                   1.000000  0.972885  \n",
              "BP_dias                  0.972885  1.000000  "
            ],
            "text/html": [
              "\n",
              "\n",
              "  <div id=\"df-a8de2e82-d350-48c7-b9c9-4a38bdac92a3\">\n",
              "    <div class=\"colab-df-container\">\n",
              "      <div>\n",
              "<style scoped>\n",
              "    .dataframe tbody tr th:only-of-type {\n",
              "        vertical-align: middle;\n",
              "    }\n",
              "\n",
              "    .dataframe tbody tr th {\n",
              "        vertical-align: top;\n",
              "    }\n",
              "\n",
              "    .dataframe thead th {\n",
              "        text-align: right;\n",
              "    }\n",
              "</style>\n",
              "<table border=\"1\" class=\"dataframe\">\n",
              "  <thead>\n",
              "    <tr style=\"text-align: right;\">\n",
              "      <th></th>\n",
              "      <th>Gender</th>\n",
              "      <th>Age</th>\n",
              "      <th>Occupation</th>\n",
              "      <th>Sleep Duration</th>\n",
              "      <th>Quality of Sleep</th>\n",
              "      <th>Physical Activity Level</th>\n",
              "      <th>Stress Level</th>\n",
              "      <th>BMI Category</th>\n",
              "      <th>Heart Rate</th>\n",
              "      <th>Daily Steps</th>\n",
              "      <th>BP_sys</th>\n",
              "      <th>BP_dias</th>\n",
              "    </tr>\n",
              "  </thead>\n",
              "  <tbody>\n",
              "    <tr>\n",
              "      <th>Gender</th>\n",
              "      <td>1.000000</td>\n",
              "      <td>-0.596358</td>\n",
              "      <td>-0.219113</td>\n",
              "      <td>-0.121579</td>\n",
              "      <td>-0.291366</td>\n",
              "      <td>0.001454</td>\n",
              "      <td>0.396018</td>\n",
              "      <td>-0.352060</td>\n",
              "      <td>0.217105</td>\n",
              "      <td>-0.014509</td>\n",
              "      <td>-0.210527</td>\n",
              "      <td>-0.268378</td>\n",
              "    </tr>\n",
              "    <tr>\n",
              "      <th>Age</th>\n",
              "      <td>-0.596358</td>\n",
              "      <td>1.000000</td>\n",
              "      <td>0.231188</td>\n",
              "      <td>0.344709</td>\n",
              "      <td>0.473734</td>\n",
              "      <td>0.178993</td>\n",
              "      <td>-0.422344</td>\n",
              "      <td>0.511329</td>\n",
              "      <td>-0.225606</td>\n",
              "      <td>0.057973</td>\n",
              "      <td>0.605878</td>\n",
              "      <td>0.593839</td>\n",
              "    </tr>\n",
              "    <tr>\n",
              "      <th>Occupation</th>\n",
              "      <td>-0.219113</td>\n",
              "      <td>0.231188</td>\n",
              "      <td>1.000000</td>\n",
              "      <td>-0.325775</td>\n",
              "      <td>-0.278071</td>\n",
              "      <td>-0.103660</td>\n",
              "      <td>0.021123</td>\n",
              "      <td>0.699504</td>\n",
              "      <td>0.043928</td>\n",
              "      <td>-0.105877</td>\n",
              "      <td>0.518561</td>\n",
              "      <td>0.521835</td>\n",
              "    </tr>\n",
              "    <tr>\n",
              "      <th>Sleep Duration</th>\n",
              "      <td>-0.121579</td>\n",
              "      <td>0.344709</td>\n",
              "      <td>-0.325775</td>\n",
              "      <td>1.000000</td>\n",
              "      <td>0.883213</td>\n",
              "      <td>0.212360</td>\n",
              "      <td>-0.811023</td>\n",
              "      <td>-0.376358</td>\n",
              "      <td>-0.516455</td>\n",
              "      <td>-0.039533</td>\n",
              "      <td>-0.180406</td>\n",
              "      <td>-0.166570</td>\n",
              "    </tr>\n",
              "    <tr>\n",
              "      <th>Quality of Sleep</th>\n",
              "      <td>-0.291366</td>\n",
              "      <td>0.473734</td>\n",
              "      <td>-0.278071</td>\n",
              "      <td>0.883213</td>\n",
              "      <td>1.000000</td>\n",
              "      <td>0.192896</td>\n",
              "      <td>-0.898752</td>\n",
              "      <td>-0.312562</td>\n",
              "      <td>-0.659865</td>\n",
              "      <td>0.016791</td>\n",
              "      <td>-0.121632</td>\n",
              "      <td>-0.110151</td>\n",
              "    </tr>\n",
              "    <tr>\n",
              "      <th>Physical Activity Level</th>\n",
              "      <td>0.001454</td>\n",
              "      <td>0.178993</td>\n",
              "      <td>-0.103660</td>\n",
              "      <td>0.212360</td>\n",
              "      <td>0.192896</td>\n",
              "      <td>1.000000</td>\n",
              "      <td>-0.034134</td>\n",
              "      <td>0.077156</td>\n",
              "      <td>0.136971</td>\n",
              "      <td>0.772723</td>\n",
              "      <td>0.265416</td>\n",
              "      <td>0.382651</td>\n",
              "    </tr>\n",
              "    <tr>\n",
              "      <th>Stress Level</th>\n",
              "      <td>0.396018</td>\n",
              "      <td>-0.422344</td>\n",
              "      <td>0.021123</td>\n",
              "      <td>-0.811023</td>\n",
              "      <td>-0.898752</td>\n",
              "      <td>-0.034134</td>\n",
              "      <td>1.000000</td>\n",
              "      <td>0.163895</td>\n",
              "      <td>0.670026</td>\n",
              "      <td>0.186829</td>\n",
              "      <td>0.102818</td>\n",
              "      <td>0.091811</td>\n",
              "    </tr>\n",
              "    <tr>\n",
              "      <th>BMI Category</th>\n",
              "      <td>-0.352060</td>\n",
              "      <td>0.511329</td>\n",
              "      <td>0.699504</td>\n",
              "      <td>-0.376358</td>\n",
              "      <td>-0.312562</td>\n",
              "      <td>0.077156</td>\n",
              "      <td>0.163895</td>\n",
              "      <td>1.000000</td>\n",
              "      <td>0.295585</td>\n",
              "      <td>-0.005059</td>\n",
              "      <td>0.714057</td>\n",
              "      <td>0.750869</td>\n",
              "    </tr>\n",
              "    <tr>\n",
              "      <th>Heart Rate</th>\n",
              "      <td>0.217105</td>\n",
              "      <td>-0.225606</td>\n",
              "      <td>0.043928</td>\n",
              "      <td>-0.516455</td>\n",
              "      <td>-0.659865</td>\n",
              "      <td>0.136971</td>\n",
              "      <td>0.670026</td>\n",
              "      <td>0.295585</td>\n",
              "      <td>1.000000</td>\n",
              "      <td>-0.030309</td>\n",
              "      <td>0.294143</td>\n",
              "      <td>0.271092</td>\n",
              "    </tr>\n",
              "    <tr>\n",
              "      <th>Daily Steps</th>\n",
              "      <td>-0.014509</td>\n",
              "      <td>0.057973</td>\n",
              "      <td>-0.105877</td>\n",
              "      <td>-0.039533</td>\n",
              "      <td>0.016791</td>\n",
              "      <td>0.772723</td>\n",
              "      <td>0.186829</td>\n",
              "      <td>-0.005059</td>\n",
              "      <td>-0.030309</td>\n",
              "      <td>1.000000</td>\n",
              "      <td>0.103342</td>\n",
              "      <td>0.241986</td>\n",
              "    </tr>\n",
              "    <tr>\n",
              "      <th>BP_sys</th>\n",
              "      <td>-0.210527</td>\n",
              "      <td>0.605878</td>\n",
              "      <td>0.518561</td>\n",
              "      <td>-0.180406</td>\n",
              "      <td>-0.121632</td>\n",
              "      <td>0.265416</td>\n",
              "      <td>0.102818</td>\n",
              "      <td>0.714057</td>\n",
              "      <td>0.294143</td>\n",
              "      <td>0.103342</td>\n",
              "      <td>1.000000</td>\n",
              "      <td>0.972885</td>\n",
              "    </tr>\n",
              "    <tr>\n",
              "      <th>BP_dias</th>\n",
              "      <td>-0.268378</td>\n",
              "      <td>0.593839</td>\n",
              "      <td>0.521835</td>\n",
              "      <td>-0.166570</td>\n",
              "      <td>-0.110151</td>\n",
              "      <td>0.382651</td>\n",
              "      <td>0.091811</td>\n",
              "      <td>0.750869</td>\n",
              "      <td>0.271092</td>\n",
              "      <td>0.241986</td>\n",
              "      <td>0.972885</td>\n",
              "      <td>1.000000</td>\n",
              "    </tr>\n",
              "  </tbody>\n",
              "</table>\n",
              "</div>\n",
              "      <button class=\"colab-df-convert\" onclick=\"convertToInteractive('df-a8de2e82-d350-48c7-b9c9-4a38bdac92a3')\"\n",
              "              title=\"Convert this dataframe to an interactive table.\"\n",
              "              style=\"display:none;\">\n",
              "\n",
              "  <svg xmlns=\"http://www.w3.org/2000/svg\" height=\"24px\"viewBox=\"0 0 24 24\"\n",
              "       width=\"24px\">\n",
              "    <path d=\"M0 0h24v24H0V0z\" fill=\"none\"/>\n",
              "    <path d=\"M18.56 5.44l.94 2.06.94-2.06 2.06-.94-2.06-.94-.94-2.06-.94 2.06-2.06.94zm-11 1L8.5 8.5l.94-2.06 2.06-.94-2.06-.94L8.5 2.5l-.94 2.06-2.06.94zm10 10l.94 2.06.94-2.06 2.06-.94-2.06-.94-.94-2.06-.94 2.06-2.06.94z\"/><path d=\"M17.41 7.96l-1.37-1.37c-.4-.4-.92-.59-1.43-.59-.52 0-1.04.2-1.43.59L10.3 9.45l-7.72 7.72c-.78.78-.78 2.05 0 2.83L4 21.41c.39.39.9.59 1.41.59.51 0 1.02-.2 1.41-.59l7.78-7.78 2.81-2.81c.8-.78.8-2.07 0-2.86zM5.41 20L4 18.59l7.72-7.72 1.47 1.35L5.41 20z\"/>\n",
              "  </svg>\n",
              "      </button>\n",
              "\n",
              "\n",
              "\n",
              "    <div id=\"df-0a5830d1-6919-4821-b776-7ea71708fb54\">\n",
              "      <button class=\"colab-df-quickchart\" onclick=\"quickchart('df-0a5830d1-6919-4821-b776-7ea71708fb54')\"\n",
              "              title=\"Suggest charts.\"\n",
              "              style=\"display:none;\">\n",
              "\n",
              "<svg xmlns=\"http://www.w3.org/2000/svg\" height=\"24px\"viewBox=\"0 0 24 24\"\n",
              "     width=\"24px\">\n",
              "    <g>\n",
              "        <path d=\"M19 3H5c-1.1 0-2 .9-2 2v14c0 1.1.9 2 2 2h14c1.1 0 2-.9 2-2V5c0-1.1-.9-2-2-2zM9 17H7v-7h2v7zm4 0h-2V7h2v10zm4 0h-2v-4h2v4z\"/>\n",
              "    </g>\n",
              "</svg>\n",
              "      </button>\n",
              "    </div>\n",
              "\n",
              "<style>\n",
              "  .colab-df-quickchart {\n",
              "    background-color: #E8F0FE;\n",
              "    border: none;\n",
              "    border-radius: 50%;\n",
              "    cursor: pointer;\n",
              "    display: none;\n",
              "    fill: #1967D2;\n",
              "    height: 32px;\n",
              "    padding: 0 0 0 0;\n",
              "    width: 32px;\n",
              "  }\n",
              "\n",
              "  .colab-df-quickchart:hover {\n",
              "    background-color: #E2EBFA;\n",
              "    box-shadow: 0px 1px 2px rgba(60, 64, 67, 0.3), 0px 1px 3px 1px rgba(60, 64, 67, 0.15);\n",
              "    fill: #174EA6;\n",
              "  }\n",
              "\n",
              "  [theme=dark] .colab-df-quickchart {\n",
              "    background-color: #3B4455;\n",
              "    fill: #D2E3FC;\n",
              "  }\n",
              "\n",
              "  [theme=dark] .colab-df-quickchart:hover {\n",
              "    background-color: #434B5C;\n",
              "    box-shadow: 0px 1px 3px 1px rgba(0, 0, 0, 0.15);\n",
              "    filter: drop-shadow(0px 1px 2px rgba(0, 0, 0, 0.3));\n",
              "    fill: #FFFFFF;\n",
              "  }\n",
              "</style>\n",
              "\n",
              "    <script>\n",
              "      async function quickchart(key) {\n",
              "        const containerElement = document.querySelector('#' + key);\n",
              "        const charts = await google.colab.kernel.invokeFunction(\n",
              "            'suggestCharts', [key], {});\n",
              "      }\n",
              "    </script>\n",
              "\n",
              "      <script>\n",
              "\n",
              "function displayQuickchartButton(domScope) {\n",
              "  let quickchartButtonEl =\n",
              "    domScope.querySelector('#df-0a5830d1-6919-4821-b776-7ea71708fb54 button.colab-df-quickchart');\n",
              "  quickchartButtonEl.style.display =\n",
              "    google.colab.kernel.accessAllowed ? 'block' : 'none';\n",
              "}\n",
              "\n",
              "        displayQuickchartButton(document);\n",
              "      </script>\n",
              "      <style>\n",
              "    .colab-df-container {\n",
              "      display:flex;\n",
              "      flex-wrap:wrap;\n",
              "      gap: 12px;\n",
              "    }\n",
              "\n",
              "    .colab-df-convert {\n",
              "      background-color: #E8F0FE;\n",
              "      border: none;\n",
              "      border-radius: 50%;\n",
              "      cursor: pointer;\n",
              "      display: none;\n",
              "      fill: #1967D2;\n",
              "      height: 32px;\n",
              "      padding: 0 0 0 0;\n",
              "      width: 32px;\n",
              "    }\n",
              "\n",
              "    .colab-df-convert:hover {\n",
              "      background-color: #E2EBFA;\n",
              "      box-shadow: 0px 1px 2px rgba(60, 64, 67, 0.3), 0px 1px 3px 1px rgba(60, 64, 67, 0.15);\n",
              "      fill: #174EA6;\n",
              "    }\n",
              "\n",
              "    [theme=dark] .colab-df-convert {\n",
              "      background-color: #3B4455;\n",
              "      fill: #D2E3FC;\n",
              "    }\n",
              "\n",
              "    [theme=dark] .colab-df-convert:hover {\n",
              "      background-color: #434B5C;\n",
              "      box-shadow: 0px 1px 3px 1px rgba(0, 0, 0, 0.15);\n",
              "      filter: drop-shadow(0px 1px 2px rgba(0, 0, 0, 0.3));\n",
              "      fill: #FFFFFF;\n",
              "    }\n",
              "  </style>\n",
              "\n",
              "      <script>\n",
              "        const buttonEl =\n",
              "          document.querySelector('#df-a8de2e82-d350-48c7-b9c9-4a38bdac92a3 button.colab-df-convert');\n",
              "        buttonEl.style.display =\n",
              "          google.colab.kernel.accessAllowed ? 'block' : 'none';\n",
              "\n",
              "        async function convertToInteractive(key) {\n",
              "          const element = document.querySelector('#df-a8de2e82-d350-48c7-b9c9-4a38bdac92a3');\n",
              "          const dataTable =\n",
              "            await google.colab.kernel.invokeFunction('convertToInteractive',\n",
              "                                                     [key], {});\n",
              "          if (!dataTable) return;\n",
              "\n",
              "          const docLinkHtml = 'Like what you see? Visit the ' +\n",
              "            '<a target=\"_blank\" href=https://colab.research.google.com/notebooks/data_table.ipynb>data table notebook</a>'\n",
              "            + ' to learn more about interactive tables.';\n",
              "          element.innerHTML = '';\n",
              "          dataTable['output_type'] = 'display_data';\n",
              "          await google.colab.output.renderOutput(dataTable, element);\n",
              "          const docLink = document.createElement('div');\n",
              "          docLink.innerHTML = docLinkHtml;\n",
              "          element.appendChild(docLink);\n",
              "        }\n",
              "      </script>\n",
              "    </div>\n",
              "  </div>\n"
            ]
          },
          "metadata": {},
          "execution_count": 21
        }
      ]
    },
    {
      "cell_type": "code",
      "source": [
        "fig, ax = plt.subplots(figsize=(12,9))\n",
        "sns.heatmap(df.corr(),annot=True,linewidths=0.5,ax=ax)\n"
      ],
      "metadata": {
        "colab": {
          "base_uri": "https://localhost:8080/",
          "height": 916
        },
        "id": "n4dWHk3_m7IR",
        "outputId": "116e9379-9384-42de-dd3b-68bf429527aa"
      },
      "execution_count": null,
      "outputs": [
        {
          "output_type": "execute_result",
          "data": {
            "text/plain": [
              "<Axes: >"
            ]
          },
          "metadata": {},
          "execution_count": 22
        },
        {
          "output_type": "display_data",
          "data": {
            "text/plain": [
              "<Figure size 1200x900 with 2 Axes>"
            ],
            "image/png": "[encoded data removed]"
          },
          "metadata": {}
        }
      ]
    },
    {
      "cell_type": "code",
      "source": [
        "sns.countplot(x='Sleep Disorder',data=df)"
      ],
      "metadata": {
        "colab": {
          "base_uri": "https://localhost:8080/",
          "height": 466
        },
        "id": "-6F7arb9srJ-",
        "outputId": "082de593-7842-488f-fa67-5a60931c90b6"
      },
      "execution_count": null,
      "outputs": [
        {
          "output_type": "execute_result",
          "data": {
            "text/plain": [
              "<Axes: xlabel='Sleep Disorder', ylabel='count'>"
            ]
          },
          "metadata": {},
          "execution_count": 23
        },
        {
          "output_type": "display_data",
          "data": {
            "text/plain": [
              "<Figure size 640x480 with 1 Axes>"
            ],
            "image/png": "[encoded data removed]"
          },
          "metadata": {}
        }
      ]
    },
    {
      "cell_type": "code",
      "source": [
        "sns.barplot(x='Stress Level',y='Sleep Duration',hue='Gender',data=df)"
      ],
      "metadata": {
        "colab": {
          "base_uri": "https://localhost:8080/",
          "height": 466
        },
        "id": "V0-9mynCs10m",
        "outputId": "e47059ac-b925-4984-ea36-e52943a0444d"
      },
      "execution_count": null,
      "outputs": [
        {
          "output_type": "execute_result",
          "data": {
            "text/plain": [
              "<Axes: xlabel='Stress Level', ylabel='Sleep Duration'>"
            ]
          },
          "metadata": {},
          "execution_count": 24
        },
        {
          "output_type": "display_data",
          "data": {
            "text/plain": [
              "<Figure size 640x480 with 1 Axes>"
            ],
            "image/png": "[encoded data removed]"
          },
          "metadata": {}
        }
      ]
    },
    {
      "cell_type": "markdown",
      "source": [
        "Separate X and y"
      ],
      "metadata": {
        "id": "k9ffmyPjaZqv"
      }
    },
    {
      "cell_type": "code",
      "source": [
        "X=df.iloc[:,:-1]\n",
        "y=df.iloc[:,-1]"
      ],
      "metadata": {
        "id": "kuTSEVyq1Clk"
      },
      "execution_count": null,
      "outputs": []
    },
    {
      "cell_type": "markdown",
      "source": [
        "Scaling"
      ],
      "metadata": {
        "id": "G2c4MNu-5Y7e"
      }
    },
    {
      "cell_type": "code",
      "source": [
        "mm=MinMaxScaler()\n",
        "X_mm=mm.fit_transform(X)\n",
        "X_mm\n"
      ],
      "metadata": {
        "id": "3ocgPy-31ieM",
        "colab": {
          "base_uri": "https://localhost:8080/"
        },
        "outputId": "2ed768be-855a-4fd2-8ae3-faddfb6f72d3"
      },
      "execution_count": null,
      "outputs": [
        {
          "output_type": "execute_result",
          "data": {
            "text/plain": [
              "array([[1.        , 0.        , 0.9       , ..., 0.17142857, 0.40740741,\n",
              "        0.4       ],\n",
              "       [1.        , 0.03125   , 0.1       , ..., 1.        , 0.37037037,\n",
              "        0.25      ],\n",
              "       [1.        , 0.03125   , 0.1       , ..., 1.        , 0.37037037,\n",
              "        0.25      ],\n",
              "       ...,\n",
              "       [0.        , 1.        , 0.5       , ..., 0.57142857, 0.92592593,\n",
              "        1.        ],\n",
              "       [0.        , 1.        , 0.5       , ..., 0.57142857, 0.92592593,\n",
              "        1.        ],\n",
              "       [0.        , 1.        , 0.5       , ..., 0.57142857, 0.92592593,\n",
              "        1.        ]])"
            ]
          },
          "metadata": {},
          "execution_count": 26
        }
      ]
    },
    {
      "cell_type": "code",
      "source": [
        "X_train,X_test,y_train,y_test=train_test_split(X_mm,y,test_size=0.3,random_state=1)"
      ],
      "metadata": {
        "id": "n6wH4UGS5XL3"
      },
      "execution_count": null,
      "outputs": []
    },
    {
      "cell_type": "markdown",
      "source": [
        "# Model Development"
      ],
      "metadata": {
        "id": "DqfMcGBvSsmt"
      }
    },
    {
      "cell_type": "markdown",
      "source": [
        "1) KNeighborsClassifier"
      ],
      "metadata": {
        "id": "1jP9EreNSmZD"
      }
    },
    {
      "cell_type": "code",
      "source": [
        "knn=KNeighborsClassifier(n_neighbors=3)\n",
        "knn.fit(X_train,y_train)\n",
        "y_knn=knn.predict(X_test)"
      ],
      "metadata": {
        "id": "gQmXTx1j6Knm"
      },
      "execution_count": null,
      "outputs": []
    },
    {
      "cell_type": "code",
      "source": [
        "print(accuracy_score(y_knn,y_test)*100)\n",
        "print(classification_report(y_knn,y_test))\n",
        "print(ConfusionMatrixDisplay.from_predictions(y_knn,y_test))"
      ],
      "metadata": {
        "colab": {
          "base_uri": "https://localhost:8080/",
          "height": 657
        },
        "id": "MOUy1RJB_eP-",
        "outputId": "9c4dc9a7-3801-429f-d401-ce7f6e6963e5"
      },
      "execution_count": null,
      "outputs": [
        {
          "output_type": "stream",
          "name": "stdout",
          "text": [
            "86.72566371681415\n",
            "              precision    recall  f1-score   support\n",
            "\n",
            "    Insomnia       0.74      0.74      0.74        23\n",
            "        None       0.94      0.90      0.92        68\n",
            " Sleep Apnea       0.80      0.91      0.85        22\n",
            "\n",
            "    accuracy                           0.87       113\n",
            "   macro avg       0.83      0.85      0.84       113\n",
            "weighted avg       0.87      0.87      0.87       113\n",
            "\n",
            "<sklearn.metrics._plot.confusion_matrix.ConfusionMatrixDisplay object at 0x7c3ed6addb70>\n"
          ]
        },
        {
          "output_type": "display_data",
          "data": {
            "text/plain": [
              "<Figure size 640x480 with 2 Axes>"
            ],
            "image/png": "[encoded data removed]"
          },
          "metadata": {}
        }
      ]
    },
    {
      "cell_type": "markdown",
      "source": [
        "2) SVC"
      ],
      "metadata": {
        "id": "bQi5BQf9HXXl"
      }
    },
    {
      "cell_type": "code",
      "source": [
        "sv=SVC()\n",
        "sv.fit(X_train,y_train)\n",
        "y_sv=sv.predict(X_test)\n"
      ],
      "metadata": {
        "id": "4YP0yeaTHYjv"
      },
      "execution_count": null,
      "outputs": []
    },
    {
      "cell_type": "code",
      "source": [
        "print(accuracy_score(y_sv,y_test)*100)\n",
        "print(classification_report(y_sv,y_test))\n",
        "print(ConfusionMatrixDisplay.from_predictions(y_sv,y_test))"
      ],
      "metadata": {
        "colab": {
          "base_uri": "https://localhost:8080/",
          "height": 657
        },
        "id": "nzDXUTqLIF_r",
        "outputId": "2b6208ff-d6e9-419b-c21c-14d7253340fe"
      },
      "execution_count": null,
      "outputs": [
        {
          "output_type": "stream",
          "name": "stdout",
          "text": [
            "87.61061946902655\n",
            "              precision    recall  f1-score   support\n",
            "\n",
            "    Insomnia       0.70      0.76      0.73        21\n",
            "        None       0.94      0.91      0.92        67\n",
            " Sleep Apnea       0.88      0.88      0.88        25\n",
            "\n",
            "    accuracy                           0.88       113\n",
            "   macro avg       0.84      0.85      0.84       113\n",
            "weighted avg       0.88      0.88      0.88       113\n",
            "\n",
            "<sklearn.metrics._plot.confusion_matrix.ConfusionMatrixDisplay object at 0x7c3ed69b3490>\n"
          ]
        },
        {
          "output_type": "display_data",
          "data": {
            "text/plain": [
              "<Figure size 640x480 with 2 Axes>"
            ],
            "image/png": "[encoded data removed]"
          },
          "metadata": {}
        }
      ]
    },
    {
      "cell_type": "markdown",
      "source": [
        "3) Naive Bayes"
      ],
      "metadata": {
        "id": "qMkX5R4IJhIp"
      }
    },
    {
      "cell_type": "code",
      "source": [
        "nb=GaussianNB()\n",
        "nb.fit(X_train,y_train)\n",
        "y_nb=nb.predict(X_test)\n"
      ],
      "metadata": {
        "id": "6xmu5hKYI1Rd"
      },
      "execution_count": null,
      "outputs": []
    },
    {
      "cell_type": "code",
      "source": [
        "print(accuracy_score(y_nb,y_test)*100)\n",
        "print(classification_report(y_nb,y_test))\n",
        "print(ConfusionMatrixDisplay.from_predictions(y_nb,y_test))"
      ],
      "metadata": {
        "colab": {
          "base_uri": "https://localhost:8080/",
          "height": 657
        },
        "id": "gozcApfYJ9XK",
        "outputId": "4364afe7-8639-4d7d-e7ca-2190a9b66601"
      },
      "execution_count": null,
      "outputs": [
        {
          "output_type": "stream",
          "name": "stdout",
          "text": [
            "87.61061946902655\n",
            "              precision    recall  f1-score   support\n",
            "\n",
            "    Insomnia       0.74      0.74      0.74        23\n",
            "        None       0.91      0.91      0.91        65\n",
            " Sleep Apnea       0.92      0.92      0.92        25\n",
            "\n",
            "    accuracy                           0.88       113\n",
            "   macro avg       0.86      0.86      0.86       113\n",
            "weighted avg       0.88      0.88      0.88       113\n",
            "\n",
            "<sklearn.metrics._plot.confusion_matrix.ConfusionMatrixDisplay object at 0x7c3ed6add2a0>\n"
          ]
        },
        {
          "output_type": "display_data",
          "data": {
            "text/plain": [
              "<Figure size 640x480 with 2 Axes>"
            ],
            "image/png": "[encoded data removed]"
          },
          "metadata": {}
        }
      ]
    },
    {
      "cell_type": "markdown",
      "source": [
        "4) Decision Tree Classifier\n",
        "\n"
      ],
      "metadata": {
        "id": "YLc-GRJLKMUY"
      }
    },
    {
      "cell_type": "code",
      "source": [
        "clf=DecisionTreeClassifier(criterion='entropy')\n",
        "clf.fit(X_train,y_train)\n",
        "y_clf=clf.predict(X_test)\n"
      ],
      "metadata": {
        "id": "jXfU3B7AKOTV"
      },
      "execution_count": null,
      "outputs": []
    },
    {
      "cell_type": "code",
      "source": [
        "print(accuracy_score(y_clf,y_test)*100)\n",
        "print(classification_report(y_clf,y_test))\n",
        "print(ConfusionMatrixDisplay.from_predictions(y_clf,y_test))"
      ],
      "metadata": {
        "colab": {
          "base_uri": "https://localhost:8080/",
          "height": 657
        },
        "id": "TLANN2WWLKRN",
        "outputId": "c9ba7c53-0897-4415-d671-29193a120776"
      },
      "execution_count": null,
      "outputs": [
        {
          "output_type": "stream",
          "name": "stdout",
          "text": [
            "88.49557522123894\n",
            "              precision    recall  f1-score   support\n",
            "\n",
            "    Insomnia       0.78      0.82      0.80        22\n",
            "        None       0.94      0.88      0.91        69\n",
            " Sleep Apnea       0.84      0.95      0.89        22\n",
            "\n",
            "    accuracy                           0.88       113\n",
            "   macro avg       0.85      0.89      0.87       113\n",
            "weighted avg       0.89      0.88      0.89       113\n",
            "\n",
            "<sklearn.metrics._plot.confusion_matrix.ConfusionMatrixDisplay object at 0x7c3ed6879d20>\n"
          ]
        },
        {
          "output_type": "display_data",
          "data": {
            "text/plain": [
              "<Figure size 640x480 with 2 Axes>"
            ],
            "image/png": "[encoded data removed]"
          },
          "metadata": {}
        }
      ]
    },
    {
      "cell_type": "markdown",
      "source": [
        "5) Random Forest"
      ],
      "metadata": {
        "id": "9zjq-um7MTic"
      }
    },
    {
      "cell_type": "code",
      "source": [
        "rf=RandomForestClassifier(random_state=1)\n",
        "rf.fit(X_train,y_train)\n",
        "y_rf=rf.predict(X_test)\n",
        "\n"
      ],
      "metadata": {
        "id": "PZpGC0HhMQMa"
      },
      "execution_count": null,
      "outputs": []
    },
    {
      "cell_type": "code",
      "source": [
        "print(accuracy_score(y_rf,y_test)*100)\n",
        "print(classification_report(y_rf,y_test))\n",
        "print(ConfusionMatrixDisplay.from_predictions(y_rf,y_test))"
      ],
      "metadata": {
        "colab": {
          "base_uri": "https://localhost:8080/",
          "height": 657
        },
        "id": "75ZeYtRbMqOB",
        "outputId": "e6fb5e4a-9e73-4596-cdb1-e1c46d945e02"
      },
      "execution_count": null,
      "outputs": [
        {
          "output_type": "stream",
          "name": "stdout",
          "text": [
            "89.38053097345133\n",
            "              precision    recall  f1-score   support\n",
            "\n",
            "    Insomnia       0.70      0.84      0.76        19\n",
            "        None       0.95      0.91      0.93        68\n",
            " Sleep Apnea       0.92      0.88      0.90        26\n",
            "\n",
            "    accuracy                           0.89       113\n",
            "   macro avg       0.86      0.88      0.87       113\n",
            "weighted avg       0.90      0.89      0.90       113\n",
            "\n",
            "<sklearn.metrics._plot.confusion_matrix.ConfusionMatrixDisplay object at 0x7c3ed674eb90>\n"
          ]
        },
        {
          "output_type": "display_data",
          "data": {
            "text/plain": [
              "<Figure size 640x480 with 2 Axes>"
            ],
            "image/png": "[encoded data removed]"
          },
          "metadata": {}
        }
      ]
    },
    {
      "cell_type": "markdown",
      "source": [
        "6) AdaBoostClassifier"
      ],
      "metadata": {
        "id": "B5JJf5PbNHNR"
      }
    },
    {
      "cell_type": "code",
      "source": [
        "ab=AdaBoostClassifier(random_state=1)\n",
        "ab.fit(X_train,y_train)\n",
        "y_ab=ab.predict(X_test)\n"
      ],
      "metadata": {
        "id": "irteBDwLNJuK"
      },
      "execution_count": null,
      "outputs": []
    },
    {
      "cell_type": "code",
      "source": [
        "print(accuracy_score(y_ab,y_test)*100)\n",
        "print(classification_report(y_ab,y_test))\n",
        "print(ConfusionMatrixDisplay.from_predictions(y_ab,y_test))"
      ],
      "metadata": {
        "colab": {
          "base_uri": "https://localhost:8080/",
          "height": 657
        },
        "id": "tYmQafyfNZNa",
        "outputId": "23ad0043-3ea3-4287-f6ef-869886e7fdfe"
      },
      "execution_count": null,
      "outputs": [
        {
          "output_type": "stream",
          "name": "stdout",
          "text": [
            "85.84070796460178\n",
            "              precision    recall  f1-score   support\n",
            "\n",
            "    Insomnia       0.65      0.83      0.73        18\n",
            "        None       0.91      0.89      0.90        66\n",
            " Sleep Apnea       0.92      0.79      0.85        29\n",
            "\n",
            "    accuracy                           0.86       113\n",
            "   macro avg       0.83      0.84      0.83       113\n",
            "weighted avg       0.87      0.86      0.86       113\n",
            "\n",
            "<sklearn.metrics._plot.confusion_matrix.ConfusionMatrixDisplay object at 0x7c3ed4873a90>\n"
          ]
        },
        {
          "output_type": "display_data",
          "data": {
            "text/plain": [
              "<Figure size 640x480 with 2 Axes>"
            ],
            "image/png": "[encoded data removed]"
          },
          "metadata": {}
        }
      ]
    },
    {
      "cell_type": "markdown",
      "source": [
        "7)GradientBoosting Classifier"
      ],
      "metadata": {
        "id": "UwVwmaSJENss"
      }
    },
    {
      "cell_type": "code",
      "source": [
        "gb=GradientBoostingClassifier(random_state=1)\n",
        "gb.fit(X_train,y_train)\n",
        "y_gb=gb.predict(X_test)"
      ],
      "metadata": {
        "id": "DATUQzJjEaWB"
      },
      "execution_count": null,
      "outputs": []
    },
    {
      "cell_type": "code",
      "source": [
        "print(accuracy_score(y_gb,y_test)*100)\n",
        "print(classification_report(y_gb,y_test))"
      ],
      "metadata": {
        "colab": {
          "base_uri": "https://localhost:8080/"
        },
        "id": "qgIC4J5EFYKi",
        "outputId": "1fd1cd69-2826-47ff-9672-7dedeca52e1d"
      },
      "execution_count": null,
      "outputs": [
        {
          "output_type": "stream",
          "name": "stdout",
          "text": [
            "89.38053097345133\n",
            "              precision    recall  f1-score   support\n",
            "\n",
            "    Insomnia       0.70      0.84      0.76        19\n",
            "        None       0.95      0.91      0.93        68\n",
            " Sleep Apnea       0.92      0.88      0.90        26\n",
            "\n",
            "    accuracy                           0.89       113\n",
            "   macro avg       0.86      0.88      0.87       113\n",
            "weighted avg       0.90      0.89      0.90       113\n",
            "\n"
          ]
        }
      ]
    },
    {
      "cell_type": "markdown",
      "source": [
        "8) LGBM Classifier"
      ],
      "metadata": {
        "id": "EMV7rkn9d6eb"
      }
    },
    {
      "cell_type": "code",
      "source": [
        "lgbm=LGBMClassifier(random_state=1)\n",
        "lgbm.fit(X_train,y_train)\n",
        "y_lgbm=lgbm.predict(X_test)"
      ],
      "metadata": {
        "id": "G7Eity5keAJQ"
      },
      "execution_count": null,
      "outputs": []
    },
    {
      "cell_type": "code",
      "source": [
        "print(accuracy_score(y_lgbm,y_test)*100)\n",
        "print(classification_report(y_lgbm,y_test))"
      ],
      "metadata": {
        "colab": {
          "base_uri": "https://localhost:8080/"
        },
        "id": "Yn90Y9RmejuF",
        "outputId": "1358e8c5-1417-4ca8-e081-76afd13d35c9"
      },
      "execution_count": null,
      "outputs": [
        {
          "output_type": "stream",
          "name": "stdout",
          "text": [
            "89.38053097345133\n",
            "              precision    recall  f1-score   support\n",
            "\n",
            "    Insomnia       0.70      0.84      0.76        19\n",
            "        None       0.95      0.91      0.93        68\n",
            " Sleep Apnea       0.92      0.88      0.90        26\n",
            "\n",
            "    accuracy                           0.89       113\n",
            "   macro avg       0.86      0.88      0.87       113\n",
            "weighted avg       0.90      0.89      0.90       113\n",
            "\n"
          ]
        }
      ]
    },
    {
      "cell_type": "markdown",
      "source": [
        "## Over Sampling"
      ],
      "metadata": {
        "id": "wbFc7gJJEZpX"
      }
    },
    {
      "cell_type": "code",
      "source": [
        "os=SMOTE(random_state=1)\n",
        "X_os,y_os=os.fit_resample(X,y)"
      ],
      "metadata": {
        "id": "rcpGyVM3EY_p"
      },
      "execution_count": null,
      "outputs": []
    },
    {
      "cell_type": "code",
      "source": [
        "y_os.value_counts()"
      ],
      "metadata": {
        "colab": {
          "base_uri": "https://localhost:8080/"
        },
        "id": "u_TmFTs9ENjq",
        "outputId": "360af3cf-0fe4-4423-a04c-16022d31e590"
      },
      "execution_count": null,
      "outputs": [
        {
          "output_type": "execute_result",
          "data": {
            "text/plain": [
              "None           219\n",
              "Sleep Apnea    219\n",
              "Insomnia       219\n",
              "Name: Sleep Disorder, dtype: int64"
            ]
          },
          "metadata": {},
          "execution_count": 45
        }
      ]
    },
    {
      "cell_type": "code",
      "source": [
        "X_mm1=mm.fit_transform(X_os)\n",
        "X_mm1"
      ],
      "metadata": {
        "colab": {
          "base_uri": "https://localhost:8080/"
        },
        "id": "v2OmdWm_Hra9",
        "outputId": "9dfc06d2-ef85-4ebe-b77e-b1c65f9736e2"
      },
      "execution_count": null,
      "outputs": [
        {
          "output_type": "execute_result",
          "data": {
            "text/plain": [
              "array([[1.        , 0.        , 0.9       , ..., 0.17142857, 0.40740741,\n",
              "        0.4       ],\n",
              "       [1.        , 0.03125   , 0.1       , ..., 1.        , 0.37037037,\n",
              "        0.25      ],\n",
              "       [1.        , 0.03125   , 0.1       , ..., 1.        , 0.37037037,\n",
              "        0.25      ],\n",
              "       ...,\n",
              "       [0.        , 1.        , 0.5       , ..., 0.57142857, 0.92592593,\n",
              "        1.        ],\n",
              "       [0.        , 0.9375    , 0.5       , ..., 0.57142857, 0.92592593,\n",
              "        1.        ],\n",
              "       [0.        , 0.71875   , 0.5       , ..., 1.        , 0.92592593,\n",
              "        1.        ]])"
            ]
          },
          "metadata": {},
          "execution_count": 46
        }
      ]
    },
    {
      "cell_type": "code",
      "source": [
        "X_train,X_test,y_train,y_test=train_test_split(X_mm1,y_os,test_size=0.3,random_state=1)"
      ],
      "metadata": {
        "id": "UPqkhfsGH5jb"
      },
      "execution_count": null,
      "outputs": []
    },
    {
      "cell_type": "code",
      "source": [
        "knn_os=KNeighborsClassifier(n_neighbors=3)\n",
        "sv_os=SVC(kernel='poly')\n",
        "nb_os=GaussianNB()\n",
        "clf_os=DecisionTreeClassifier(criterion='entropy',max_depth=4)\n",
        "rf_os=RandomForestClassifier()\n",
        "ab_os=AdaBoostClassifier()\n",
        "gb_os=GradientBoostingClassifier()\n",
        "lbgm_os=LGBMClassifier()"
      ],
      "metadata": {
        "id": "Do2G59cyIS-b"
      },
      "execution_count": null,
      "outputs": []
    },
    {
      "cell_type": "code",
      "source": [
        "models=[knn_os,sv_os,nb_os,clf_os,rf_os,ab_os,gb_os,lbgm_os]\n",
        "for model in models:\n",
        "  print('****************',model,'*****************')\n",
        "  model.fit(X_train,y_train)\n",
        "  y_pred=model.predict(X_test)\n",
        "  print(accuracy_score(y_pred,y_test)*100)\n",
        "  print(classification_report(y_pred,y_test))\n",
        "  #print(ConfusionMatrixDisplay.from_predictions(y_pred,y_test))"
      ],
      "metadata": {
        "colab": {
          "base_uri": "https://localhost:8080/"
        },
        "id": "cN5HxEaAKR1P",
        "outputId": "a6567ad7-7d21-4e35-ac50-a41cb260971f"
      },
      "execution_count": null,
      "outputs": [
        {
          "output_type": "stream",
          "name": "stdout",
          "text": [
            "**************** KNeighborsClassifier(n_neighbors=3) *****************\n",
            "88.38383838383838\n",
            "              precision    recall  f1-score   support\n",
            "\n",
            "    Insomnia       0.89      0.88      0.88        64\n",
            "        None       0.86      0.83      0.85        60\n",
            " Sleep Apnea       0.90      0.93      0.91        74\n",
            "\n",
            "    accuracy                           0.88       198\n",
            "   macro avg       0.88      0.88      0.88       198\n",
            "weighted avg       0.88      0.88      0.88       198\n",
            "\n",
            "**************** SVC(kernel='poly') *****************\n",
            "89.8989898989899\n",
            "              precision    recall  f1-score   support\n",
            "\n",
            "    Insomnia       0.87      0.93      0.90        59\n",
            "        None       0.91      0.83      0.87        64\n",
            " Sleep Apnea       0.91      0.93      0.92        75\n",
            "\n",
            "    accuracy                           0.90       198\n",
            "   macro avg       0.90      0.90      0.90       198\n",
            "weighted avg       0.90      0.90      0.90       198\n",
            "\n",
            "**************** GaussianNB() *****************\n",
            "85.35353535353535\n",
            "              precision    recall  f1-score   support\n",
            "\n",
            "    Insomnia       0.89      0.80      0.84        70\n",
            "        None       0.86      0.82      0.84        61\n",
            " Sleep Apnea       0.82      0.94      0.88        67\n",
            "\n",
            "    accuracy                           0.85       198\n",
            "   macro avg       0.86      0.85      0.85       198\n",
            "weighted avg       0.86      0.85      0.85       198\n",
            "\n",
            "**************** DecisionTreeClassifier(criterion='entropy', max_depth=4) *****************\n",
            "86.86868686868688\n",
            "              precision    recall  f1-score   support\n",
            "\n",
            "    Insomnia       0.75      0.96      0.84        49\n",
            "        None       0.93      0.82      0.87        66\n",
            " Sleep Apnea       0.92      0.86      0.89        83\n",
            "\n",
            "    accuracy                           0.87       198\n",
            "   macro avg       0.87      0.88      0.87       198\n",
            "weighted avg       0.88      0.87      0.87       198\n",
            "\n",
            "**************** RandomForestClassifier() *****************\n",
            "91.41414141414141\n",
            "              precision    recall  f1-score   support\n",
            "\n",
            "    Insomnia       0.90      0.92      0.91        62\n",
            "        None       0.93      0.89      0.91        61\n",
            " Sleep Apnea       0.91      0.93      0.92        75\n",
            "\n",
            "    accuracy                           0.91       198\n",
            "   macro avg       0.91      0.91      0.91       198\n",
            "weighted avg       0.91      0.91      0.91       198\n",
            "\n",
            "**************** AdaBoostClassifier() *****************\n",
            "77.77777777777779\n",
            "              precision    recall  f1-score   support\n",
            "\n",
            "    Insomnia       0.52      0.92      0.67        36\n",
            "        None       0.91      0.61      0.73        87\n",
            " Sleep Apnea       0.88      0.91      0.89        75\n",
            "\n",
            "    accuracy                           0.78       198\n",
            "   macro avg       0.77      0.81      0.76       198\n",
            "weighted avg       0.83      0.78      0.78       198\n",
            "\n",
            "**************** GradientBoostingClassifier() *****************\n",
            "89.8989898989899\n",
            "              precision    recall  f1-score   support\n",
            "\n",
            "    Insomnia       0.87      0.90      0.89        61\n",
            "        None       0.93      0.89      0.91        61\n",
            " Sleep Apnea       0.90      0.91      0.90        76\n",
            "\n",
            "    accuracy                           0.90       198\n",
            "   macro avg       0.90      0.90      0.90       198\n",
            "weighted avg       0.90      0.90      0.90       198\n",
            "\n",
            "**************** LGBMClassifier() *****************\n",
            "90.40404040404042\n",
            "              precision    recall  f1-score   support\n",
            "\n",
            "    Insomnia       0.89      0.90      0.90        62\n",
            "        None       0.93      0.89      0.91        61\n",
            " Sleep Apnea       0.90      0.92      0.91        75\n",
            "\n",
            "    accuracy                           0.90       198\n",
            "   macro avg       0.91      0.90      0.90       198\n",
            "weighted avg       0.90      0.90      0.90       198\n",
            "\n"
          ]
        }
      ]
    },
    {
      "cell_type": "markdown",
      "source": [
        "# HYPER  PARAMETER TUNING"
      ],
      "metadata": {
        "id": "C00chHnosQF0"
      }
    },
    {
      "cell_type": "markdown",
      "source": [
        "KneighborsClassifier"
      ],
      "metadata": {
        "id": "zsuqX9UCsoml"
      }
    },
    {
      "cell_type": "code",
      "source": [
        "knn=KNeighborsClassifier()\n",
        "params={'n_neighbors':[3,5,7,9],'weights':['uniform','distance'],'algorithm':['auto','ball_tree','kd_tree','brute']}\n",
        "Gs1=GridSearchCV(knn,params,cv=5,scoring='accuracy')\n",
        "Gs1.fit(X_train,y_train)\n",
        "Gs1.best_params_\n"
      ],
      "metadata": {
        "id": "_unimYOcsj3R",
        "colab": {
          "base_uri": "https://localhost:8080/"
        },
        "outputId": "16a6ae80-d1fb-4cd8-d505-90bd7c766e9b"
      },
      "execution_count": null,
      "outputs": [
        {
          "output_type": "execute_result",
          "data": {
            "text/plain": [
              "{'algorithm': 'auto', 'n_neighbors': 7, 'weights': 'uniform'}"
            ]
          },
          "metadata": {},
          "execution_count": 50
        }
      ]
    },
    {
      "cell_type": "code",
      "source": [
        "knn_ht=KNeighborsClassifier(algorithm='auto',n_neighbors=7,weights='uniform')\n",
        "knn_ht.fit(X_train,y_train)\n",
        "y_pred2=knn_ht.predict(X_test)\n",
        "print(accuracy_score(y_pred2,y_test)*100)\n",
        "print(classification_report(y_pred2,y_test))"
      ],
      "metadata": {
        "id": "TqX_NQ6mTxVe",
        "colab": {
          "base_uri": "https://localhost:8080/"
        },
        "outputId": "ad90b8af-fafd-4d1e-a09b-2bae7d04fc2c"
      },
      "execution_count": null,
      "outputs": [
        {
          "output_type": "stream",
          "name": "stdout",
          "text": [
            "84.84848484848484\n",
            "              precision    recall  f1-score   support\n",
            "\n",
            "    Insomnia       0.86      0.82      0.84        66\n",
            "        None       0.86      0.81      0.83        62\n",
            " Sleep Apnea       0.83      0.91      0.87        70\n",
            "\n",
            "    accuracy                           0.85       198\n",
            "   macro avg       0.85      0.85      0.85       198\n",
            "weighted avg       0.85      0.85      0.85       198\n",
            "\n"
          ]
        }
      ]
    },
    {
      "cell_type": "markdown",
      "source": [
        "SVC"
      ],
      "metadata": {
        "id": "GNNWI2dLwNah"
      }
    },
    {
      "cell_type": "code",
      "source": [
        "params1={'kernel':['linear','poly','rbf','sigmoid'],'degree':[3,2,4,1],'gamma':['scale','auto']}\n",
        "Gs2=GridSearchCV(sv,params1,cv=5,scoring='accuracy')\n",
        "Gs2.fit(X_train,y_train)\n",
        "Gs2.best_params_"
      ],
      "metadata": {
        "id": "zn3-Lsw9wKoL",
        "colab": {
          "base_uri": "https://localhost:8080/"
        },
        "outputId": "c83830d7-b223-4c8b-8904-3100d9d7495e"
      },
      "execution_count": null,
      "outputs": [
        {
          "output_type": "execute_result",
          "data": {
            "text/plain": [
              "{'degree': 4, 'gamma': 'scale', 'kernel': 'poly'}"
            ]
          },
          "metadata": {},
          "execution_count": 52
        }
      ]
    },
    {
      "cell_type": "code",
      "source": [
        "sv_ht=SVC(degree=4,gamma='scale',kernel='poly')\n",
        "sv_ht.fit(X_train,y_train)\n",
        "y_pred3=sv_ht.predict(X_test)\n",
        "print(accuracy_score(y_pred3,y_test)*100)\n",
        "print(classification_report(y_pred3,y_test))"
      ],
      "metadata": {
        "id": "zfXKZEhfYmp2",
        "colab": {
          "base_uri": "https://localhost:8080/"
        },
        "outputId": "0ce30ee7-d896-4b92-dfdb-aa4ff5fd32de"
      },
      "execution_count": null,
      "outputs": [
        {
          "output_type": "stream",
          "name": "stdout",
          "text": [
            "90.40404040404042\n",
            "              precision    recall  f1-score   support\n",
            "\n",
            "    Insomnia       0.87      0.92      0.89        60\n",
            "        None       0.90      0.85      0.87        61\n",
            " Sleep Apnea       0.94      0.94      0.94        77\n",
            "\n",
            "    accuracy                           0.90       198\n",
            "   macro avg       0.90      0.90      0.90       198\n",
            "weighted avg       0.90      0.90      0.90       198\n",
            "\n"
          ]
        }
      ]
    },
    {
      "cell_type": "markdown",
      "source": [
        "RandomForestClassifier"
      ],
      "metadata": {
        "id": "WMZmQrUNbMx5"
      }
    },
    {
      "cell_type": "code",
      "source": [
        "params2={'n_estimators':[50,60,100,150],'criterion':['gini','entropy','log_loss'],'max_depth':[3,4,5,6]}\n",
        "Gs3=GridSearchCV(rf,params2,cv=5,scoring='accuracy')\n",
        "Gs3.fit(X_train,y_train)\n",
        "Gs3.best_params_"
      ],
      "metadata": {
        "id": "iJR8BdFHZRYc",
        "colab": {
          "base_uri": "https://localhost:8080/"
        },
        "outputId": "32f26609-bba9-4f4a-f8ad-e55af56d2a74"
      },
      "execution_count": null,
      "outputs": [
        {
          "output_type": "execute_result",
          "data": {
            "text/plain": [
              "{'criterion': 'gini', 'max_depth': 5, 'n_estimators': 100}"
            ]
          },
          "metadata": {},
          "execution_count": 54
        }
      ]
    },
    {
      "cell_type": "code",
      "source": [
        "rf_ht=RandomForestClassifier(criterion='gini',max_depth=5,n_estimators=100)\n",
        "rf_ht.fit(X_train,y_train)\n",
        "y_pred4=rf_ht.predict(X_test)\n",
        "print(accuracy_score(y_pred4,y_test)*100)\n",
        "print(classification_report(y_pred4,y_test))"
      ],
      "metadata": {
        "id": "0Rydb0T37kdo",
        "colab": {
          "base_uri": "https://localhost:8080/"
        },
        "outputId": "0fcf71f8-7197-4814-c4b5-913f05fa9f1b"
      },
      "execution_count": null,
      "outputs": [
        {
          "output_type": "stream",
          "name": "stdout",
          "text": [
            "88.88888888888889\n",
            "              precision    recall  f1-score   support\n",
            "\n",
            "    Insomnia       0.86      0.92      0.89        59\n",
            "        None       0.93      0.84      0.89        64\n",
            " Sleep Apnea       0.88      0.91      0.89        75\n",
            "\n",
            "    accuracy                           0.89       198\n",
            "   macro avg       0.89      0.89      0.89       198\n",
            "weighted avg       0.89      0.89      0.89       198\n",
            "\n"
          ]
        }
      ]
    },
    {
      "cell_type": "markdown",
      "source": [
        "GradientBoosting Classifier"
      ],
      "metadata": {
        "id": "LFepSOwTF8uv"
      }
    },
    {
      "cell_type": "code",
      "source": [
        "params3={'n_estimators':[50,60,100,150],'max_depth':[3,4,5,6],'min_samples_split':[2,3,4,5],'max_features':['sqrt','log2']}\n",
        "Gs4=GridSearchCV(gb,params3,cv=5,scoring='accuracy')\n",
        "Gs4.fit(X_train,y_train)\n",
        "Gs4.best_params_"
      ],
      "metadata": {
        "id": "WZ_s79ZGHCPf",
        "colab": {
          "base_uri": "https://localhost:8080/"
        },
        "outputId": "859505e6-8523-4580-ada3-2ca5c2a862ea"
      },
      "execution_count": null,
      "outputs": [
        {
          "output_type": "execute_result",
          "data": {
            "text/plain": [
              "{'max_depth': 4,\n",
              " 'max_features': 'sqrt',\n",
              " 'min_samples_split': 3,\n",
              " 'n_estimators': 50}"
            ]
          },
          "metadata": {},
          "execution_count": 56
        }
      ]
    },
    {
      "cell_type": "code",
      "source": [
        "gb_ht=GradientBoostingClassifier(n_estimators=50,max_depth=4,min_samples_split=3,max_features='sqrt')\n",
        "gb_ht.fit(X_train,y_train)\n",
        "y_pred5=gb_ht.predict(X_test)\n",
        "print(accuracy_score(y_pred5,y_test)*100)\n",
        "print(classification_report(y_pred5,y_test))\n"
      ],
      "metadata": {
        "id": "BwD2t0LaF6Jh",
        "colab": {
          "base_uri": "https://localhost:8080/"
        },
        "outputId": "a640627a-ee9d-4ae0-ba37-a15bab3bf987"
      },
      "execution_count": null,
      "outputs": [
        {
          "output_type": "stream",
          "name": "stdout",
          "text": [
            "90.40404040404042\n",
            "              precision    recall  f1-score   support\n",
            "\n",
            "    Insomnia       0.89      0.90      0.90        62\n",
            "        None       0.93      0.89      0.91        61\n",
            " Sleep Apnea       0.90      0.92      0.91        75\n",
            "\n",
            "    accuracy                           0.90       198\n",
            "   macro avg       0.91      0.90      0.90       198\n",
            "weighted avg       0.90      0.90      0.90       198\n",
            "\n"
          ]
        }
      ]
    },
    {
      "cell_type": "markdown",
      "source": [
        "LGBM classifier"
      ],
      "metadata": {
        "id": "IR2einCpyPdo"
      }
    },
    {
      "cell_type": "code",
      "source": [
        "params4={'n_estimators':[50,60,100,150],'max_depth':[-1,1,3,4,5]}\n",
        "Gs5=GridSearchCV(gb,params4,cv=5,scoring='accuracy')\n",
        "Gs5.fit(X_train,y_train)\n",
        "Gs5.best_params_"
      ],
      "metadata": {
        "colab": {
          "base_uri": "https://localhost:8080/"
        },
        "id": "kY0FYLUmyZTp",
        "outputId": "a7cd0db6-de25-40e8-8e66-da961dabb959"
      },
      "execution_count": null,
      "outputs": [
        {
          "output_type": "execute_result",
          "data": {
            "text/plain": [
              "{'max_depth': 4, 'n_estimators': 50}"
            ]
          },
          "metadata": {},
          "execution_count": 58
        }
      ]
    },
    {
      "cell_type": "code",
      "source": [
        "lgbm_ht=LGBMClassifier(n_estimators=50,max_depth=4)\n",
        "lgbm_ht.fit(X_train,y_train)\n",
        "y_pred6=lgbm_ht.predict(X_test)\n",
        "print(accuracy_score(y_pred6,y_test)*100)\n",
        "print(classification_report(y_pred6,y_test))"
      ],
      "metadata": {
        "colab": {
          "base_uri": "https://localhost:8080/"
        },
        "id": "YVMA_--yyjtl",
        "outputId": "93c036d2-e64e-4608-a7ff-2f5771fee111"
      },
      "execution_count": null,
      "outputs": [
        {
          "output_type": "stream",
          "name": "stdout",
          "text": [
            "90.40404040404042\n",
            "              precision    recall  f1-score   support\n",
            "\n",
            "    Insomnia       0.89      0.90      0.90        62\n",
            "        None       0.93      0.89      0.91        61\n",
            " Sleep Apnea       0.90      0.92      0.91        75\n",
            "\n",
            "    accuracy                           0.90       198\n",
            "   macro avg       0.91      0.90      0.90       198\n",
            "weighted avg       0.90      0.90      0.90       198\n",
            "\n"
          ]
        }
      ]
    },
    {
      "cell_type": "markdown",
      "source": [
        "## Feature Extraction - Principle Component Analysis"
      ],
      "metadata": {
        "id": "ZM5iyfEE1yfN"
      }
    },
    {
      "cell_type": "code",
      "source": [
        "pca=PCA(n_components=8)\n",
        "X_train=pca.fit_transform(X_train)\n",
        "X_test=pca.transform(X_test)"
      ],
      "metadata": {
        "id": "dwbJvTZ5TLeK"
      },
      "execution_count": null,
      "outputs": []
    },
    {
      "cell_type": "code",
      "source": [
        "knn_pca=KNeighborsClassifier(algorithm='auto',n_neighbors=7,weights='uniform')\n",
        "knn_pca.fit(X_train,y_train)\n",
        "y_pred_pca=knn_pca.predict(X_test)\n",
        "print(accuracy_score(y_pred_pca,y_test)*100)\n",
        "print(classification_report(y_pred_pca,y_test))"
      ],
      "metadata": {
        "colab": {
          "base_uri": "https://localhost:8080/"
        },
        "id": "_y6zi_7ui17B",
        "outputId": "45ac2b67-7a33-4a76-b78c-8653b2c39e5a"
      },
      "execution_count": null,
      "outputs": [
        {
          "output_type": "stream",
          "name": "stdout",
          "text": [
            "84.84848484848484\n",
            "              precision    recall  f1-score   support\n",
            "\n",
            "    Insomnia       0.86      0.82      0.84        66\n",
            "        None       0.86      0.81      0.83        62\n",
            " Sleep Apnea       0.83      0.91      0.87        70\n",
            "\n",
            "    accuracy                           0.85       198\n",
            "   macro avg       0.85      0.85      0.85       198\n",
            "weighted avg       0.85      0.85      0.85       198\n",
            "\n"
          ]
        }
      ]
    },
    {
      "cell_type": "code",
      "source": [
        "pca.explained_variance_ratio_"
      ],
      "metadata": {
        "colab": {
          "base_uri": "https://localhost:8080/"
        },
        "id": "FmyLaOW1jtFI",
        "outputId": "193472f5-1bb0-4b04-a0e3-40ff0fa6c62b"
      },
      "execution_count": null,
      "outputs": [
        {
          "output_type": "execute_result",
          "data": {
            "text/plain": [
              "array([0.38183167, 0.26055776, 0.14177968, 0.09905635, 0.04645607,\n",
              "       0.03116309, 0.02142689, 0.00819527])"
            ]
          },
          "metadata": {},
          "execution_count": 62
        }
      ]
    },
    {
      "cell_type": "code",
      "source": [
        "sv_pca=SVC(degree=4,gamma='scale',kernel='poly')\n",
        "sv_pca.fit(X_train,y_train)\n",
        "y_pred_pca1=sv_pca.predict(X_test)\n",
        "print(accuracy_score(y_pred_pca1,y_test)*100)\n",
        "print(classification_report(y_pred_pca1,y_test))"
      ],
      "metadata": {
        "colab": {
          "base_uri": "https://localhost:8080/"
        },
        "id": "I-mFmMFojWtB",
        "outputId": "bfca7d5c-0a40-438b-d3fc-84b3df1d32ea"
      },
      "execution_count": null,
      "outputs": [
        {
          "output_type": "stream",
          "name": "stdout",
          "text": [
            "88.38383838383838\n",
            "              precision    recall  f1-score   support\n",
            "\n",
            "    Insomnia       0.92      0.87      0.89        67\n",
            "        None       0.86      0.82      0.84        61\n",
            " Sleep Apnea       0.87      0.96      0.91        70\n",
            "\n",
            "    accuracy                           0.88       198\n",
            "   macro avg       0.88      0.88      0.88       198\n",
            "weighted avg       0.88      0.88      0.88       198\n",
            "\n"
          ]
        }
      ]
    },
    {
      "cell_type": "code",
      "source": [
        "pca.explained_variance_ratio_"
      ],
      "metadata": {
        "colab": {
          "base_uri": "https://localhost:8080/"
        },
        "id": "98zbGQH9juAs",
        "outputId": "3e5b2d14-d90b-431a-f949-1e5c178b456c"
      },
      "execution_count": null,
      "outputs": [
        {
          "output_type": "execute_result",
          "data": {
            "text/plain": [
              "array([0.38183167, 0.26055776, 0.14177968, 0.09905635, 0.04645607,\n",
              "       0.03116309, 0.02142689, 0.00819527])"
            ]
          },
          "metadata": {},
          "execution_count": 64
        }
      ]
    },
    {
      "cell_type": "code",
      "source": [
        "#Random Forest\n",
        "rf_pca=RandomForestClassifier(criterion='gini',max_depth=5,n_estimators=150)\n",
        "rf_pca.fit(X_train,y_train)\n",
        "y_pred_pca2=rf_pca.predict(X_test)\n",
        "print(accuracy_score(y_pred_pca2,y_test)*100)\n",
        "print(classification_report(y_test,y_pred_pca2))"
      ],
      "metadata": {
        "id": "Ca9Vu7Fh2HSR",
        "colab": {
          "base_uri": "https://localhost:8080/"
        },
        "outputId": "c9025412-cc37-4292-f746-f6b1461b73f5"
      },
      "execution_count": null,
      "outputs": [
        {
          "output_type": "stream",
          "name": "stdout",
          "text": [
            "89.39393939393939\n",
            "              precision    recall  f1-score   support\n",
            "\n",
            "    Insomnia       0.92      0.89      0.90        63\n",
            "        None       0.84      0.88      0.86        58\n",
            " Sleep Apnea       0.92      0.91      0.92        77\n",
            "\n",
            "    accuracy                           0.89       198\n",
            "   macro avg       0.89      0.89      0.89       198\n",
            "weighted avg       0.90      0.89      0.89       198\n",
            "\n"
          ]
        }
      ]
    },
    {
      "cell_type": "code",
      "source": [
        "pca.explained_variance_ratio_"
      ],
      "metadata": {
        "id": "kRZZ_5A93uyx",
        "colab": {
          "base_uri": "https://localhost:8080/"
        },
        "outputId": "57103344-e371-4cda-9e53-2c70ef3e9c27"
      },
      "execution_count": null,
      "outputs": [
        {
          "output_type": "execute_result",
          "data": {
            "text/plain": [
              "array([0.38183167, 0.26055776, 0.14177968, 0.09905635, 0.04645607,\n",
              "       0.03116309, 0.02142689, 0.00819527])"
            ]
          },
          "metadata": {},
          "execution_count": 66
        }
      ]
    },
    {
      "cell_type": "code",
      "source": [
        "#GradientBoosting classifier\n",
        "gb_pca=GradientBoostingClassifier(n_estimators=50,max_depth=4,min_samples_split=3,max_features='sqrt')\n",
        "gb_pca.fit(X_train,y_train)\n",
        "y_pred_pca3=gb_pca.predict(X_test)\n",
        "print(accuracy_score(y_pred_pca3,y_test)*100)\n",
        "print(classification_report(y_test,y_pred_pca3))\n"
      ],
      "metadata": {
        "id": "GFOUQ7AR5kqc",
        "colab": {
          "base_uri": "https://localhost:8080/"
        },
        "outputId": "f4f01158-de76-4f33-b5e7-085e3b830247"
      },
      "execution_count": null,
      "outputs": [
        {
          "output_type": "stream",
          "name": "stdout",
          "text": [
            "89.8989898989899\n",
            "              precision    recall  f1-score   support\n",
            "\n",
            "    Insomnia       0.92      0.89      0.90        63\n",
            "        None       0.85      0.90      0.87        58\n",
            " Sleep Apnea       0.92      0.91      0.92        77\n",
            "\n",
            "    accuracy                           0.90       198\n",
            "   macro avg       0.90      0.90      0.90       198\n",
            "weighted avg       0.90      0.90      0.90       198\n",
            "\n"
          ]
        }
      ]
    },
    {
      "cell_type": "code",
      "source": [
        "pca.explained_variance_ratio_"
      ],
      "metadata": {
        "id": "KnStd0Gz6Wng",
        "colab": {
          "base_uri": "https://localhost:8080/"
        },
        "outputId": "186d8076-24c9-4217-f725-6067e8a8b1a3"
      },
      "execution_count": null,
      "outputs": [
        {
          "output_type": "execute_result",
          "data": {
            "text/plain": [
              "array([0.38183167, 0.26055776, 0.14177968, 0.09905635, 0.04645607,\n",
              "       0.03116309, 0.02142689, 0.00819527])"
            ]
          },
          "metadata": {},
          "execution_count": 68
        }
      ]
    },
    {
      "cell_type": "code",
      "source": [
        "lgbm_pca=LGBMClassifier(n_estimators=50,max_depth=4)\n",
        "lgbm_pca.fit(X_train,y_train)\n",
        "y_pred_pca4=lgbm_pca.predict(X_test)\n",
        "print(accuracy_score(y_pred_pca4,y_test)*100)\n",
        "print(classification_report(y_pred_pca4,y_test))"
      ],
      "metadata": {
        "colab": {
          "base_uri": "https://localhost:8080/"
        },
        "id": "tOfwclmzjyO_",
        "outputId": "de442307-6499-4ba7-df11-d13fce8c0bd3"
      },
      "execution_count": null,
      "outputs": [
        {
          "output_type": "stream",
          "name": "stdout",
          "text": [
            "90.40404040404042\n",
            "              precision    recall  f1-score   support\n",
            "\n",
            "    Insomnia       0.87      0.93      0.90        59\n",
            "        None       0.91      0.85      0.88        62\n",
            " Sleep Apnea       0.92      0.92      0.92        77\n",
            "\n",
            "    accuracy                           0.90       198\n",
            "   macro avg       0.90      0.90      0.90       198\n",
            "weighted avg       0.90      0.90      0.90       198\n",
            "\n"
          ]
        }
      ]
    },
    {
      "cell_type": "code",
      "source": [
        "pca.explained_variance_ratio_"
      ],
      "metadata": {
        "colab": {
          "base_uri": "https://localhost:8080/"
        },
        "id": "qKMSyNhpkE07",
        "outputId": "534fb8a7-e5d5-4a10-803d-9aee61bde408"
      },
      "execution_count": null,
      "outputs": [
        {
          "output_type": "execute_result",
          "data": {
            "text/plain": [
              "array([0.38183167, 0.26055776, 0.14177968, 0.09905635, 0.04645607,\n",
              "       0.03116309, 0.02142689, 0.00819527])"
            ]
          },
          "metadata": {},
          "execution_count": 71
        }
      ]
    },
    {
      "cell_type": "markdown",
      "source": [
        "## Feature selection"
      ],
      "metadata": {
        "id": "ZSMUjtPm5ckY"
      }
    },
    {
      "cell_type": "code",
      "source": [
        "chi2_select=SelectKBest(chi2,k=8)\n",
        "X_kbest=chi2_select.fit_transform(X_mm1,y_os)\n",
        "X_kbest.shape"
      ],
      "metadata": {
        "id": "KFJYMEHPUDB0",
        "colab": {
          "base_uri": "https://localhost:8080/"
        },
        "outputId": "29ee5dee-b901-4853-c1d4-e343a296b8e2"
      },
      "execution_count": null,
      "outputs": [
        {
          "output_type": "execute_result",
          "data": {
            "text/plain": [
              "(657, 8)"
            ]
          },
          "metadata": {},
          "execution_count": 82
        }
      ]
    },
    {
      "cell_type": "code",
      "source": [
        "df.columns"
      ],
      "metadata": {
        "colab": {
          "base_uri": "https://localhost:8080/"
        },
        "id": "Ew8UZENLqQkz",
        "outputId": "6033f5a5-bd61-4f76-af9a-f776205b7e4f"
      },
      "execution_count": null,
      "outputs": [
        {
          "output_type": "execute_result",
          "data": {
            "text/plain": [
              "Index(['Gender', 'Age', 'Occupation', 'Sleep Duration', 'Quality of Sleep',\n",
              "       'Physical Activity Level', 'Stress Level', 'BMI Category', 'Heart Rate',\n",
              "       'Daily Steps', 'BP_sys', 'BP_dias', 'Sleep Disorder'],\n",
              "      dtype='object')"
            ]
          },
          "metadata": {},
          "execution_count": 93
        }
      ]
    },
    {
      "cell_type": "code",
      "source": [
        "selected_features=chi2_select.fit_transform(X_mm1,y_os)\n",
        "selected_feature_indices=chi2_select.get_support(indices=True)\n",
        "print('Selected feature indices:',selected_feature_indices)\n",
        "print('Selected_feature_names:',df.columns[selected_feature_indices].tolist())"
      ],
      "metadata": {
        "colab": {
          "base_uri": "https://localhost:8080/"
        },
        "id": "mHcm4mCGpcy6",
        "outputId": "88f8d189-d9d9-4dbe-e6c7-4db0688a402e"
      },
      "execution_count": null,
      "outputs": [
        {
          "output_type": "stream",
          "name": "stdout",
          "text": [
            "Selected feature indices: [ 0  1  2  3  5  7 10 11]\n",
            "Selected_feature_names: ['Gender', 'Age', 'Occupation', 'Sleep Duration', 'Physical Activity Level', 'BMI Category', 'BP_sys', 'BP_dias']\n"
          ]
        }
      ]
    },
    {
      "cell_type": "code",
      "source": [
        "# Creating a new data set by droping other features\n",
        "X_os.drop(['Quality of Sleep','Stress Level','Heart Rate','Daily Steps',],axis=1,inplace=True)\n",
        "X_os"
      ],
      "metadata": {
        "colab": {
          "base_uri": "https://localhost:8080/",
          "height": 423
        },
        "id": "xWzzcdC7p8t3",
        "outputId": "ea44288e-5154-474a-8d7c-b348d143bacb"
      },
      "execution_count": null,
      "outputs": [
        {
          "output_type": "execute_result",
          "data": {
            "text/plain": [
              "     Gender  Age  Occupation  Sleep Duration  Physical Activity Level  \\\n",
              "0         1   27           9        6.100000                       42   \n",
              "1         1   28           1        6.200000                       60   \n",
              "2         1   28           1        6.200000                       60   \n",
              "3         1   28           6        5.900000                       30   \n",
              "4         1   28           6        5.900000                       30   \n",
              "..      ...  ...         ...             ...                      ...   \n",
              "652       0   50           5        6.100000                       90   \n",
              "653       0   49           5        6.054012                       90   \n",
              "654       0   59           5        8.100000                       75   \n",
              "655       0   57           5        8.200000                       75   \n",
              "656       0   50           5        6.100000                       90   \n",
              "\n",
              "     BMI Category  BP_sys  BP_dias  \n",
              "0               3   126.0     83.0  \n",
              "1               0   125.0     80.0  \n",
              "2               0   125.0     80.0  \n",
              "3               2   140.0     90.0  \n",
              "4               2   140.0     90.0  \n",
              "..            ...     ...      ...  \n",
              "652             3   140.0     95.0  \n",
              "653             3   140.0     95.0  \n",
              "654             3   140.0     95.0  \n",
              "655             3   140.0     95.0  \n",
              "656             3   140.0     95.0  \n",
              "\n",
              "[657 rows x 8 columns]"
            ],
            "text/html": [
              "\n",
              "\n",
              "  <div id=\"df-0c46ac08-bb0f-46a4-ae4e-6c88e4748252\">\n",
              "    <div class=\"colab-df-container\">\n",
              "      <div>\n",
              "<style scoped>\n",
              "    .dataframe tbody tr th:only-of-type {\n",
              "        vertical-align: middle;\n",
              "    }\n",
              "\n",
              "    .dataframe tbody tr th {\n",
              "        vertical-align: top;\n",
              "    }\n",
              "\n",
              "    .dataframe thead th {\n",
              "        text-align: right;\n",
              "    }\n",
              "</style>\n",
              "<table border=\"1\" class=\"dataframe\">\n",
              "  <thead>\n",
              "    <tr style=\"text-align: right;\">\n",
              "      <th></th>\n",
              "      <th>Gender</th>\n",
              "      <th>Age</th>\n",
              "      <th>Occupation</th>\n",
              "      <th>Sleep Duration</th>\n",
              "      <th>Physical Activity Level</th>\n",
              "      <th>BMI Category</th>\n",
              "      <th>BP_sys</th>\n",
              "      <th>BP_dias</th>\n",
              "    </tr>\n",
              "  </thead>\n",
              "  <tbody>\n",
              "    <tr>\n",
              "      <th>0</th>\n",
              "      <td>1</td>\n",
              "      <td>27</td>\n",
              "      <td>9</td>\n",
              "      <td>6.100000</td>\n",
              "      <td>42</td>\n",
              "      <td>3</td>\n",
              "      <td>126.0</td>\n",
              "      <td>83.0</td>\n",
              "    </tr>\n",
              "    <tr>\n",
              "      <th>1</th>\n",
              "      <td>1</td>\n",
              "      <td>28</td>\n",
              "      <td>1</td>\n",
              "      <td>6.200000</td>\n",
              "      <td>60</td>\n",
              "      <td>0</td>\n",
              "      <td>125.0</td>\n",
              "      <td>80.0</td>\n",
              "    </tr>\n",
              "    <tr>\n",
              "      <th>2</th>\n",
              "      <td>1</td>\n",
              "      <td>28</td>\n",
              "      <td>1</td>\n",
              "      <td>6.200000</td>\n",
              "      <td>60</td>\n",
              "      <td>0</td>\n",
              "      <td>125.0</td>\n",
              "      <td>80.0</td>\n",
              "    </tr>\n",
              "    <tr>\n",
              "      <th>3</th>\n",
              "      <td>1</td>\n",
              "      <td>28</td>\n",
              "      <td>6</td>\n",
              "      <td>5.900000</td>\n",
              "      <td>30</td>\n",
              "      <td>2</td>\n",
              "      <td>140.0</td>\n",
              "      <td>90.0</td>\n",
              "    </tr>\n",
              "    <tr>\n",
              "      <th>4</th>\n",
              "      <td>1</td>\n",
              "      <td>28</td>\n",
              "      <td>6</td>\n",
              "      <td>5.900000</td>\n",
              "      <td>30</td>\n",
              "      <td>2</td>\n",
              "      <td>140.0</td>\n",
              "      <td>90.0</td>\n",
              "    </tr>\n",
              "    <tr>\n",
              "      <th>...</th>\n",
              "      <td>...</td>\n",
              "      <td>...</td>\n",
              "      <td>...</td>\n",
              "      <td>...</td>\n",
              "      <td>...</td>\n",
              "      <td>...</td>\n",
              "      <td>...</td>\n",
              "      <td>...</td>\n",
              "    </tr>\n",
              "    <tr>\n",
              "      <th>652</th>\n",
              "      <td>0</td>\n",
              "      <td>50</td>\n",
              "      <td>5</td>\n",
              "      <td>6.100000</td>\n",
              "      <td>90</td>\n",
              "      <td>3</td>\n",
              "      <td>140.0</td>\n",
              "      <td>95.0</td>\n",
              "    </tr>\n",
              "    <tr>\n",
              "      <th>653</th>\n",
              "      <td>0</td>\n",
              "      <td>49</td>\n",
              "      <td>5</td>\n",
              "      <td>6.054012</td>\n",
              "      <td>90</td>\n",
              "      <td>3</td>\n",
              "      <td>140.0</td>\n",
              "      <td>95.0</td>\n",
              "    </tr>\n",
              "    <tr>\n",
              "      <th>654</th>\n",
              "      <td>0</td>\n",
              "      <td>59</td>\n",
              "      <td>5</td>\n",
              "      <td>8.100000</td>\n",
              "      <td>75</td>\n",
              "      <td>3</td>\n",
              "      <td>140.0</td>\n",
              "      <td>95.0</td>\n",
              "    </tr>\n",
              "    <tr>\n",
              "      <th>655</th>\n",
              "      <td>0</td>\n",
              "      <td>57</td>\n",
              "      <td>5</td>\n",
              "      <td>8.200000</td>\n",
              "      <td>75</td>\n",
              "      <td>3</td>\n",
              "      <td>140.0</td>\n",
              "      <td>95.0</td>\n",
              "    </tr>\n",
              "    <tr>\n",
              "      <th>656</th>\n",
              "      <td>0</td>\n",
              "      <td>50</td>\n",
              "      <td>5</td>\n",
              "      <td>6.100000</td>\n",
              "      <td>90</td>\n",
              "      <td>3</td>\n",
              "      <td>140.0</td>\n",
              "      <td>95.0</td>\n",
              "    </tr>\n",
              "  </tbody>\n",
              "</table>\n",
              "<p>657 rows × 8 columns</p>\n",
              "</div>\n",
              "      <button class=\"colab-df-convert\" onclick=\"convertToInteractive('df-0c46ac08-bb0f-46a4-ae4e-6c88e4748252')\"\n",
              "              title=\"Convert this dataframe to an interactive table.\"\n",
              "              style=\"display:none;\">\n",
              "\n",
              "  <svg xmlns=\"http://www.w3.org/2000/svg\" height=\"24px\"viewBox=\"0 0 24 24\"\n",
              "       width=\"24px\">\n",
              "    <path d=\"M0 0h24v24H0V0z\" fill=\"none\"/>\n",
              "    <path d=\"M18.56 5.44l.94 2.06.94-2.06 2.06-.94-2.06-.94-.94-2.06-.94 2.06-2.06.94zm-11 1L8.5 8.5l.94-2.06 2.06-.94-2.06-.94L8.5 2.5l-.94 2.06-2.06.94zm10 10l.94 2.06.94-2.06 2.06-.94-2.06-.94-.94-2.06-.94 2.06-2.06.94z\"/><path d=\"M17.41 7.96l-1.37-1.37c-.4-.4-.92-.59-1.43-.59-.52 0-1.04.2-1.43.59L10.3 9.45l-7.72 7.72c-.78.78-.78 2.05 0 2.83L4 21.41c.39.39.9.59 1.41.59.51 0 1.02-.2 1.41-.59l7.78-7.78 2.81-2.81c.8-.78.8-2.07 0-2.86zM5.41 20L4 18.59l7.72-7.72 1.47 1.35L5.41 20z\"/>\n",
              "  </svg>\n",
              "      </button>\n",
              "\n",
              "\n",
              "\n",
              "    <div id=\"df-b2ec1a31-bdcb-4a85-b7d2-56adf9b4e6bc\">\n",
              "      <button class=\"colab-df-quickchart\" onclick=\"quickchart('df-b2ec1a31-bdcb-4a85-b7d2-56adf9b4e6bc')\"\n",
              "              title=\"Suggest charts.\"\n",
              "              style=\"display:none;\">\n",
              "\n",
              "<svg xmlns=\"http://www.w3.org/2000/svg\" height=\"24px\"viewBox=\"0 0 24 24\"\n",
              "     width=\"24px\">\n",
              "    <g>\n",
              "        <path d=\"M19 3H5c-1.1 0-2 .9-2 2v14c0 1.1.9 2 2 2h14c1.1 0 2-.9 2-2V5c0-1.1-.9-2-2-2zM9 17H7v-7h2v7zm4 0h-2V7h2v10zm4 0h-2v-4h2v4z\"/>\n",
              "    </g>\n",
              "</svg>\n",
              "      </button>\n",
              "    </div>\n",
              "\n",
              "<style>\n",
              "  .colab-df-quickchart {\n",
              "    background-color: #E8F0FE;\n",
              "    border: none;\n",
              "    border-radius: 50%;\n",
              "    cursor: pointer;\n",
              "    display: none;\n",
              "    fill: #1967D2;\n",
              "    height: 32px;\n",
              "    padding: 0 0 0 0;\n",
              "    width: 32px;\n",
              "  }\n",
              "\n",
              "  .colab-df-quickchart:hover {\n",
              "    background-color: #E2EBFA;\n",
              "    box-shadow: 0px 1px 2px rgba(60, 64, 67, 0.3), 0px 1px 3px 1px rgba(60, 64, 67, 0.15);\n",
              "    fill: #174EA6;\n",
              "  }\n",
              "\n",
              "  [theme=dark] .colab-df-quickchart {\n",
              "    background-color: #3B4455;\n",
              "    fill: #D2E3FC;\n",
              "  }\n",
              "\n",
              "  [theme=dark] .colab-df-quickchart:hover {\n",
              "    background-color: #434B5C;\n",
              "    box-shadow: 0px 1px 3px 1px rgba(0, 0, 0, 0.15);\n",
              "    filter: drop-shadow(0px 1px 2px rgba(0, 0, 0, 0.3));\n",
              "    fill: #FFFFFF;\n",
              "  }\n",
              "</style>\n",
              "\n",
              "    <script>\n",
              "      async function quickchart(key) {\n",
              "        const containerElement = document.querySelector('#' + key);\n",
              "        const charts = await google.colab.kernel.invokeFunction(\n",
              "            'suggestCharts', [key], {});\n",
              "      }\n",
              "    </script>\n",
              "\n",
              "      <script>\n",
              "\n",
              "function displayQuickchartButton(domScope) {\n",
              "  let quickchartButtonEl =\n",
              "    domScope.querySelector('#df-b2ec1a31-bdcb-4a85-b7d2-56adf9b4e6bc button.colab-df-quickchart');\n",
              "  quickchartButtonEl.style.display =\n",
              "    google.colab.kernel.accessAllowed ? 'block' : 'none';\n",
              "}\n",
              "\n",
              "        displayQuickchartButton(document);\n",
              "      </script>\n",
              "      <style>\n",
              "    .colab-df-container {\n",
              "      display:flex;\n",
              "      flex-wrap:wrap;\n",
              "      gap: 12px;\n",
              "    }\n",
              "\n",
              "    .colab-df-convert {\n",
              "      background-color: #E8F0FE;\n",
              "      border: none;\n",
              "      border-radius: 50%;\n",
              "      cursor: pointer;\n",
              "      display: none;\n",
              "      fill: #1967D2;\n",
              "      height: 32px;\n",
              "      padding: 0 0 0 0;\n",
              "      width: 32px;\n",
              "    }\n",
              "\n",
              "    .colab-df-convert:hover {\n",
              "      background-color: #E2EBFA;\n",
              "      box-shadow: 0px 1px 2px rgba(60, 64, 67, 0.3), 0px 1px 3px 1px rgba(60, 64, 67, 0.15);\n",
              "      fill: #174EA6;\n",
              "    }\n",
              "\n",
              "    [theme=dark] .colab-df-convert {\n",
              "      background-color: #3B4455;\n",
              "      fill: #D2E3FC;\n",
              "    }\n",
              "\n",
              "    [theme=dark] .colab-df-convert:hover {\n",
              "      background-color: #434B5C;\n",
              "      box-shadow: 0px 1px 3px 1px rgba(0, 0, 0, 0.15);\n",
              "      filter: drop-shadow(0px 1px 2px rgba(0, 0, 0, 0.3));\n",
              "      fill: #FFFFFF;\n",
              "    }\n",
              "  </style>\n",
              "\n",
              "      <script>\n",
              "        const buttonEl =\n",
              "          document.querySelector('#df-0c46ac08-bb0f-46a4-ae4e-6c88e4748252 button.colab-df-convert');\n",
              "        buttonEl.style.display =\n",
              "          google.colab.kernel.accessAllowed ? 'block' : 'none';\n",
              "\n",
              "        async function convertToInteractive(key) {\n",
              "          const element = document.querySelector('#df-0c46ac08-bb0f-46a4-ae4e-6c88e4748252');\n",
              "          const dataTable =\n",
              "            await google.colab.kernel.invokeFunction('convertToInteractive',\n",
              "                                                     [key], {});\n",
              "          if (!dataTable) return;\n",
              "\n",
              "          const docLinkHtml = 'Like what you see? Visit the ' +\n",
              "            '<a target=\"_blank\" href=https://colab.research.google.com/notebooks/data_table.ipynb>data table notebook</a>'\n",
              "            + ' to learn more about interactive tables.';\n",
              "          element.innerHTML = '';\n",
              "          dataTable['output_type'] = 'display_data';\n",
              "          await google.colab.output.renderOutput(dataTable, element);\n",
              "          const docLink = document.createElement('div');\n",
              "          docLink.innerHTML = docLinkHtml;\n",
              "          element.appendChild(docLink);\n",
              "        }\n",
              "      </script>\n",
              "    </div>\n",
              "  </div>\n"
            ]
          },
          "metadata": {},
          "execution_count": 94
        }
      ]
    },
    {
      "cell_type": "code",
      "source": [
        "mm2=MinMaxScaler()\n",
        "X_mm2=mm2.fit_transform(X_os)"
      ],
      "metadata": {
        "id": "vJPFzlHcrOuR"
      },
      "execution_count": null,
      "outputs": []
    },
    {
      "cell_type": "code",
      "source": [
        "X_train,X_test,y_train,y_test=train_test_split(X_mm2,y_os,test_size=0.3,random_state=1)"
      ],
      "metadata": {
        "id": "KB5cVwHErl5w"
      },
      "execution_count": null,
      "outputs": []
    },
    {
      "cell_type": "code",
      "source": [
        "# KNeighbors Classifier\n",
        "knn_chi=KNeighborsClassifier(algorithm='auto',n_neighbors=7,weights='uniform')\n",
        "knn_chi.fit(X_train,y_train)\n",
        "y_pred_chi=knn_chi.predict(X_test)\n",
        "print(accuracy_score(y_pred_chi,y_test)*100)\n",
        "print(classification_report(y_pred_chi,y_test))"
      ],
      "metadata": {
        "colab": {
          "base_uri": "https://localhost:8080/"
        },
        "id": "sq8ipzyar604",
        "outputId": "44495054-df6a-4f2d-bd9f-7d01e7792db8"
      },
      "execution_count": null,
      "outputs": [
        {
          "output_type": "stream",
          "name": "stdout",
          "text": [
            "85.85858585858585\n",
            "              precision    recall  f1-score   support\n",
            "\n",
            "    Insomnia       0.89      0.84      0.86        67\n",
            "        None       0.86      0.83      0.85        60\n",
            " Sleep Apnea       0.83      0.90      0.86        71\n",
            "\n",
            "    accuracy                           0.86       198\n",
            "   macro avg       0.86      0.86      0.86       198\n",
            "weighted avg       0.86      0.86      0.86       198\n",
            "\n"
          ]
        }
      ]
    },
    {
      "cell_type": "code",
      "source": [
        "#  SVC\n",
        "sv_chi=SVC(degree=4,gamma='scale',kernel='poly')\n",
        "sv_chi.fit(X_train,y_train)\n",
        "y_pred_chi1=sv_chi.predict(X_test)\n",
        "print(accuracy_score(y_pred_chi1,y_test)*100)\n",
        "print(classification_report(y_pred_chi1,y_test))"
      ],
      "metadata": {
        "colab": {
          "base_uri": "https://localhost:8080/"
        },
        "id": "k__B-8DwsplJ",
        "outputId": "6cecc42f-da37-485d-c61e-6070faa6d8d9"
      },
      "execution_count": null,
      "outputs": [
        {
          "output_type": "stream",
          "name": "stdout",
          "text": [
            "90.40404040404042\n",
            "              precision    recall  f1-score   support\n",
            "\n",
            "    Insomnia       0.89      0.93      0.91        60\n",
            "        None       0.93      0.83      0.88        65\n",
            " Sleep Apnea       0.90      0.95      0.92        73\n",
            "\n",
            "    accuracy                           0.90       198\n",
            "   macro avg       0.91      0.90      0.90       198\n",
            "weighted avg       0.91      0.90      0.90       198\n",
            "\n"
          ]
        }
      ]
    },
    {
      "cell_type": "code",
      "source": [
        "# Random Forest Classifier\n",
        "rf_chi=RandomForestClassifier(criterion='gini',max_depth=5,n_estimators=150)\n",
        "rf_chi.fit(X_train,y_train)\n",
        "y_pred_chi2=rf_chi.predict(X_test)\n",
        "print(accuracy_score(y_pred_chi2,y_test)*100)\n",
        "print(classification_report(y_pred_chi2,y_test))"
      ],
      "metadata": {
        "colab": {
          "base_uri": "https://localhost:8080/"
        },
        "id": "DNYWOh1cszo1",
        "outputId": "280f915d-58a4-4a27-ff15-de8271eeffd4"
      },
      "execution_count": null,
      "outputs": [
        {
          "output_type": "stream",
          "name": "stdout",
          "text": [
            "88.88888888888889\n",
            "              precision    recall  f1-score   support\n",
            "\n",
            "    Insomnia       0.87      0.90      0.89        61\n",
            "        None       0.93      0.84      0.89        64\n",
            " Sleep Apnea       0.87      0.92      0.89        73\n",
            "\n",
            "    accuracy                           0.89       198\n",
            "   macro avg       0.89      0.89      0.89       198\n",
            "weighted avg       0.89      0.89      0.89       198\n",
            "\n"
          ]
        }
      ]
    },
    {
      "cell_type": "code",
      "source": [
        "# GradientBoosting classifier\n",
        "gb_chi=GradientBoostingClassifier(n_estimators=50,max_depth=4,min_samples_split=3,max_features='sqrt')\n",
        "gb_chi.fit(X_train,y_train)\n",
        "y_pred_chi3=gb_chi.predict(X_test)\n",
        "print(accuracy_score(y_pred_chi3,y_test)*100)\n",
        "print(classification_report(y_pred_chi3,y_test))"
      ],
      "metadata": {
        "colab": {
          "base_uri": "https://localhost:8080/"
        },
        "id": "-_G2QPEcxWfc",
        "outputId": "5f0c12e8-46f9-477b-d13c-8b9d9a2791e8"
      },
      "execution_count": null,
      "outputs": [
        {
          "output_type": "stream",
          "name": "stdout",
          "text": [
            "89.8989898989899\n",
            "              precision    recall  f1-score   support\n",
            "\n",
            "    Insomnia       0.86      0.92      0.89        59\n",
            "        None       0.93      0.89      0.91        61\n",
            " Sleep Apnea       0.91      0.90      0.90        78\n",
            "\n",
            "    accuracy                           0.90       198\n",
            "   macro avg       0.90      0.90      0.90       198\n",
            "weighted avg       0.90      0.90      0.90       198\n",
            "\n"
          ]
        }
      ]
    },
    {
      "cell_type": "code",
      "source": [
        "#  LGBM Classifier\n",
        "lgbm_chi=LGBMClassifier(n_estimators=50,max_depth=4)\n",
        "lgbm_chi.fit(X_train,y_train)\n",
        "y_pred_chi4=lgbm_chi.predict(X_test)\n",
        "print(accuracy_score(y_pred_chi4,y_test)*100)\n",
        "print(classification_report(y_pred_chi4,y_test))"
      ],
      "metadata": {
        "colab": {
          "base_uri": "https://localhost:8080/"
        },
        "id": "9FLecEO_xmx_",
        "outputId": "f7d11688-021a-4d87-ae52-aa3538dd738e"
      },
      "execution_count": null,
      "outputs": [
        {
          "output_type": "stream",
          "name": "stdout",
          "text": [
            "90.40404040404042\n",
            "              precision    recall  f1-score   support\n",
            "\n",
            "    Insomnia       0.89      0.90      0.90        62\n",
            "        None       0.93      0.89      0.91        61\n",
            " Sleep Apnea       0.90      0.92      0.91        75\n",
            "\n",
            "    accuracy                           0.90       198\n",
            "   macro avg       0.91      0.90      0.90       198\n",
            "weighted avg       0.90      0.90      0.90       198\n",
            "\n"
          ]
        }
      ]
    },
    {
      "cell_type": "markdown",
      "source": [
        "## **CONCLUSION**\n",
        "\n",
        "By comparing the performance evaluation different algorithms Support Vector Classifier and LGBM Classifier have generated high accuracy model after oversmpling. After feature selection , a model is created using SVC.  "
      ],
      "metadata": {
        "id": "HJNlVxmnPrKR"
      }
    },
    {
      "cell_type": "markdown",
      "source": [
        "# **Prediction**"
      ],
      "metadata": {
        "id": "T1Kt0qIPLMoE"
      }
    },
    {
      "cell_type": "code",
      "source": [
        "data={'Gender':['Female'],'Age':[59],'Occupation':['Nurse'],'Sleep Duration':[8.1],'Physical Activity Level':[75],'BMI Category':['Overweight'],'BP_sys':[140.0],'BP_dias':[95.0]}\n",
        "df_pred=pd.DataFrame(data)\n",
        "df_pred['Gender']=Ge.transform(df_pred['Gender'])\n",
        "df_pred['Occupation']=Oc.transform(df_pred['Occupation'])\n",
        "df_pred['BMI Category']=BMI.transform(df_pred['BMI Category'])"
      ],
      "metadata": {
        "id": "saINVC8HzA5K"
      },
      "execution_count": null,
      "outputs": []
    },
    {
      "cell_type": "code",
      "source": [
        "# Prediction using SVC\n",
        "\n",
        "y_new_pred=sv_chi.predict(mm2.transform(df_pred))\n",
        "\n",
        "if y_new_pred=='None':\n",
        "  print('The Person is Normal')\n",
        "elif y_new_pred=='Sleep Apnea':\n",
        "  print('The Person Suffers from Sleep Apnea')\n",
        "else:\n",
        "  print('The Person Suffers from Insomnia')\n"
      ],
      "metadata": {
        "colab": {
          "base_uri": "https://localhost:8080/"
        },
        "id": "-KGyG5XezPeM",
        "outputId": "5720a5bc-eb15-42dc-eb3d-fc7e1088486f"
      },
      "execution_count": null,
      "outputs": [
        {
          "output_type": "stream",
          "name": "stdout",
          "text": [
            "The Person Suffers from Sleep Apnea\n"
          ]
        }
      ]
    },
    {
      "cell_type": "code",
      "source": [
        "#  Prediction using LGBM Classifier\n",
        "\n",
        "y_new_pred=lgbm_chi.predict(mm2.transform(df_pred))\n",
        "\n",
        "if y_new_pred=='None':\n",
        "  print('The Person is Normal')\n",
        "elif y_new_pred=='Sleep Apnea':\n",
        "  print('The Person Suffers from Sleep Apnea')\n",
        "else:\n",
        "  print('The Person Suffers from Insomnia')"
      ],
      "metadata": {
        "id": "JXLhYplHgDRA",
        "colab": {
          "base_uri": "https://localhost:8080/"
        },
        "outputId": "e319cfba-d81f-4f08-f166-083df89fe3e2"
      },
      "execution_count": null,
      "outputs": [
        {
          "output_type": "stream",
          "name": "stdout",
          "text": [
            "The Person Suffers from Sleep Apnea\n"
          ]
        }
      ]
    },
    {
      "cell_type": "markdown",
      "source": [
        "# **Saving the model**"
      ],
      "metadata": {
        "id": "aXTAyK0TQslp"
      }
    },
    {
      "cell_type": "code",
      "source": [
        "import pickle"
      ],
      "metadata": {
        "id": "N_VxyegrQvs4"
      },
      "execution_count": null,
      "outputs": []
    },
    {
      "cell_type": "code",
      "source": [
        "#saving the model\n",
        "pickle.dump(sv_chi,open('Sleep_model.sav','wb'))\n",
        "\n",
        "#saving the objects\n",
        "objects=[Ge,BMI,Oc,mm2]\n",
        "pickle.dump(objects,open('Objects.sav','wb'))\n",
        "#pickle.dump(mm,open('Scale.sav','wb'))"
      ],
      "metadata": {
        "id": "Z6MSo2K_QrXL"
      },
      "execution_count": null,
      "outputs": []
    },
    {
      "cell_type": "code",
      "source": [
        "#loading the loaded model and objects\n",
        "model=pickle.load(open('Sleep_model.sav','rb'))\n",
        "loaded_objects=pickle.load(open('Objects.sav','rb'))\n",
        "loaded_objects\n"
      ],
      "metadata": {
        "id": "WF8WZUJW9GqX",
        "colab": {
          "base_uri": "https://localhost:8080/"
        },
        "outputId": "621ac253-da87-4d39-e7e4-bc63e062c451"
      },
      "execution_count": null,
      "outputs": [
        {
          "output_type": "execute_result",
          "data": {
            "text/plain": [
              "[LabelEncoder(), LabelEncoder(), LabelEncoder(), MinMaxScaler()]"
            ]
          },
          "metadata": {},
          "execution_count": 113
        }
      ]
    }
  ]
}